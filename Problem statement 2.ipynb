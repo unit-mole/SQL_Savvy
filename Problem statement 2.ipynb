{
 "cells": [
  {
   "cell_type": "markdown",
   "id": "1dbb34b7",
   "metadata": {},
   "source": [
    "#### Student’s Full Name: Anmol Tripathi\n",
    "#### Course Title: SQL/NoSQL Databases for Data and Information Sciences\n",
    "#### Term name and year: Fall 2023\n",
    "#### Submission Week: 7\n",
    "#### Instructor’s Name: Nayem Rahman\n",
    "#### Date of Submission : 04/11/2023"
   ]
  },
  {
   "cell_type": "code",
   "execution_count": 14,
   "id": "3454bedf",
   "metadata": {},
   "outputs": [],
   "source": [
    "import sqlite3\n",
    "import pandas as pd"
   ]
  },
  {
   "cell_type": "code",
   "execution_count": 15,
   "id": "b5ed4f57",
   "metadata": {},
   "outputs": [],
   "source": [
    "Worker = \"Worker.db\""
   ]
  },
  {
   "cell_type": "code",
   "execution_count": 16,
   "id": "dccc7275",
   "metadata": {},
   "outputs": [],
   "source": [
    "conn = sqlite3.connect(Worker)"
   ]
  },
  {
   "cell_type": "code",
   "execution_count": 17,
   "id": "1744bca7",
   "metadata": {},
   "outputs": [],
   "source": [
    "conn = sqlite3.connect('/Users/HP/OneDrive/Desktop/SQL/Worker.db')"
   ]
  },
  {
   "cell_type": "code",
   "execution_count": 18,
   "id": "7bc3628b",
   "metadata": {},
   "outputs": [
    {
     "name": "stdout",
     "output_type": "stream",
     "text": [
      "The sql extension is already loaded. To reload it, use:\n",
      "  %reload_ext sql\n"
     ]
    }
   ],
   "source": [
    "%load_ext sql"
   ]
  },
  {
   "cell_type": "code",
   "execution_count": 19,
   "id": "aa46a22b",
   "metadata": {},
   "outputs": [
    {
     "name": "stdout",
     "output_type": "stream",
     "text": [
      "The sql extension is already loaded. To reload it, use:\n",
      "  %reload_ext sql\n"
     ]
    }
   ],
   "source": [
    "%load_ext sql\n",
    "\n",
    "\n",
    "%sql sqlite:////Users/HP/OneDrive/Desktop/SQL/Worker.db"
   ]
  },
  {
   "cell_type": "code",
   "execution_count": null,
   "id": "5c9c9d07",
   "metadata": {},
   "outputs": [],
   "source": []
  },
  {
   "cell_type": "code",
   "execution_count": null,
   "id": "b0af1414",
   "metadata": {},
   "outputs": [],
   "source": []
  },
  {
   "cell_type": "markdown",
   "id": "f1e05d85",
   "metadata": {},
   "source": [
    "#### 1. Write a single-row subquery to display EmployeeID, FirstName, LastName, and HireDate of employees hired after employee Vivek Pandey. Sort the results by EmployeeID. Make sure you show the print screen of the complete set of the rows and columns."
   ]
  },
  {
   "cell_type": "code",
   "execution_count": 31,
   "id": "7fd2fea0",
   "metadata": {},
   "outputs": [
    {
     "name": "stdout",
     "output_type": "stream",
     "text": [
      " * sqlite:////Users/HP/OneDrive/Desktop/SQL/Worker.db\n",
      "   sqlite:///worker.db\n",
      "Done.\n"
     ]
    },
    {
     "data": {
      "text/html": [
       "<table>\n",
       "    <thead>\n",
       "        <tr>\n",
       "            <th>EmployeeID</th>\n",
       "            <th>FirstName</th>\n",
       "            <th>LastName</th>\n",
       "            <th>HireDate</th>\n",
       "        </tr>\n",
       "    </thead>\n",
       "    <tbody>\n",
       "        <tr>\n",
       "            <td>2</td>\n",
       "            <td>John</td>\n",
       "            <td>Wilson</td>\n",
       "            <td>2017-03-19</td>\n",
       "        </tr>\n",
       "        <tr>\n",
       "            <td>4</td>\n",
       "            <td>Nola</td>\n",
       "            <td>Davis</td>\n",
       "            <td>2016-03-23</td>\n",
       "        </tr>\n",
       "        <tr>\n",
       "            <td>5</td>\n",
       "            <td>Kathy</td>\n",
       "            <td>Cooper</td>\n",
       "            <td>2011-11-18</td>\n",
       "        </tr>\n",
       "        <tr>\n",
       "            <td>6</td>\n",
       "            <td>Tom</td>\n",
       "            <td>Harper</td>\n",
       "            <td>2010-04-11</td>\n",
       "        </tr>\n",
       "    </tbody>\n",
       "</table>"
      ],
      "text/plain": [
       "[(2, 'John', 'Wilson', '2017-03-19'),\n",
       " (4, 'Nola', 'Davis', '2016-03-23'),\n",
       " (5, 'Kathy', 'Cooper', '2011-11-18'),\n",
       " (6, 'Tom', 'Harper', '2010-04-11')]"
      ]
     },
     "execution_count": 31,
     "metadata": {},
     "output_type": "execute_result"
    }
   ],
   "source": [
    "%%sql\n",
    "\n",
    "SELECT EmployeeID, FirstName, LastName, HireDate\n",
    "FROM Employee\n",
    "WHERE HireDate > (SELECT HireDate FROM Employee WHERE FirstName = 'Vivek' AND LastName = 'Pandey')\n",
    "ORDER BY EmployeeID;"
   ]
  },
  {
   "cell_type": "code",
   "execution_count": null,
   "id": "29a72c5e",
   "metadata": {},
   "outputs": [],
   "source": []
  },
  {
   "cell_type": "markdown",
   "id": "2363612d",
   "metadata": {},
   "source": [
    "#### 2. Write a query to display FirstName, LastName, and TrainingName for employee Tom Harper. Sort the results by TrainingName."
   ]
  },
  {
   "cell_type": "code",
   "execution_count": 32,
   "id": "0d99707d",
   "metadata": {},
   "outputs": [
    {
     "name": "stdout",
     "output_type": "stream",
     "text": [
      " * sqlite:////Users/HP/OneDrive/Desktop/SQL/Worker.db\n",
      "   sqlite:///worker.db\n",
      "Done.\n"
     ]
    },
    {
     "data": {
      "text/html": [
       "<table>\n",
       "    <thead>\n",
       "        <tr>\n",
       "            <th>FirstName</th>\n",
       "            <th>LastName</th>\n",
       "            <th>TrainingName</th>\n",
       "        </tr>\n",
       "    </thead>\n",
       "    <tbody>\n",
       "        <tr>\n",
       "            <td>Tom</td>\n",
       "            <td>Harper</td>\n",
       "            <td>Code of Conduct Training</td>\n",
       "        </tr>\n",
       "        <tr>\n",
       "            <td>Tom</td>\n",
       "            <td>Harper</td>\n",
       "            <td>Travel and Expense Management</td>\n",
       "        </tr>\n",
       "    </tbody>\n",
       "</table>"
      ],
      "text/plain": [
       "[('Tom', 'Harper', 'Code of Conduct Training'),\n",
       " ('Tom', 'Harper', 'Travel and Expense Management')]"
      ]
     },
     "execution_count": 32,
     "metadata": {},
     "output_type": "execute_result"
    }
   ],
   "source": [
    "%%sql\n",
    "\n",
    "SELECT E.FirstName, E.LastName, T.TrainingName\n",
    "FROM Employee E\n",
    "INNER JOIN EmployeeTraining ET ON E.EmployeeID = ET.EmployeeID\n",
    "INNER JOIN Training T ON ET.TrainingID = T.TrainingID\n",
    "WHERE E.FirstName = 'Tom' AND E.LastName = 'Harper'\n",
    "ORDER BY T.TrainingName;"
   ]
  },
  {
   "cell_type": "code",
   "execution_count": null,
   "id": "4783785d",
   "metadata": {},
   "outputs": [],
   "source": []
  },
  {
   "cell_type": "markdown",
   "id": "dc148193",
   "metadata": {},
   "source": [
    "#### 3. Write a query to display the complete list of Trainings, and trainers (first and last name as separate columns) available for each training. Sort the output by TrainingName and Trainers' first and last name. Make sure you show the print screen of the complete set of the rows and columns."
   ]
  },
  {
   "cell_type": "code",
   "execution_count": 38,
   "id": "f56c8f8f",
   "metadata": {},
   "outputs": [
    {
     "name": "stdout",
     "output_type": "stream",
     "text": [
      " * sqlite:////Users/HP/OneDrive/Desktop/SQL/Worker.db\n",
      "   sqlite:///worker.db\n",
      "Done.\n"
     ]
    },
    {
     "data": {
      "text/html": [
       "<table>\n",
       "    <thead>\n",
       "        <tr>\n",
       "            <th>TrainingID</th>\n",
       "            <th>TrainingName</th>\n",
       "            <th>TrainerID</th>\n",
       "            <th>TrainerFirstName</th>\n",
       "            <th>TrainerLastName</th>\n",
       "        </tr>\n",
       "    </thead>\n",
       "    <tbody>\n",
       "        <tr>\n",
       "            <td>1</td>\n",
       "            <td>COVID-19 Awareness and Protection Training</td>\n",
       "            <td>1</td>\n",
       "            <td>James</td>\n",
       "            <td>Smith</td>\n",
       "        </tr>\n",
       "        <tr>\n",
       "            <td>1</td>\n",
       "            <td>COVID-19 Awareness and Protection Training</td>\n",
       "            <td>2</td>\n",
       "            <td>Johnny</td>\n",
       "            <td>Khor</td>\n",
       "        </tr>\n",
       "        <tr>\n",
       "            <td>2</td>\n",
       "            <td>Code of Conduct Training</td>\n",
       "            <td>3</td>\n",
       "            <td>Michael</td>\n",
       "            <td>Smith</td>\n",
       "        </tr>\n",
       "        <tr>\n",
       "            <td>10</td>\n",
       "            <td>Employee Relations</td>\n",
       "            <td>13</td>\n",
       "            <td>Mary</td>\n",
       "            <td>Garcia</td>\n",
       "        </tr>\n",
       "        <tr>\n",
       "            <td>10</td>\n",
       "            <td>Employee Relations</td>\n",
       "            <td>14</td>\n",
       "            <td>Vanessa</td>\n",
       "            <td>None</td>\n",
       "        </tr>\n",
       "        <tr>\n",
       "            <td>4</td>\n",
       "            <td>Intro to Python</td>\n",
       "            <td>5</td>\n",
       "            <td>John</td>\n",
       "            <td>None</td>\n",
       "        </tr>\n",
       "        <tr>\n",
       "            <td>4</td>\n",
       "            <td>Intro to Python</td>\n",
       "            <td>6</td>\n",
       "            <td>Paul</td>\n",
       "            <td>Deitel</td>\n",
       "        </tr>\n",
       "        <tr>\n",
       "            <td>5</td>\n",
       "            <td>Machine Learning</td>\n",
       "            <td>8</td>\n",
       "            <td>Avinash</td>\n",
       "            <td>Navlani</td>\n",
       "        </tr>\n",
       "        <tr>\n",
       "            <td>5</td>\n",
       "            <td>Machine Learning</td>\n",
       "            <td>7</td>\n",
       "            <td>Mike</td>\n",
       "            <td>Taylor</td>\n",
       "        </tr>\n",
       "        <tr>\n",
       "            <td>6</td>\n",
       "            <td>Microsoft Certifications</td>\n",
       "            <td>9</td>\n",
       "            <td>Robert</td>\n",
       "            <td>Smith</td>\n",
       "        </tr>\n",
       "        <tr>\n",
       "            <td>8</td>\n",
       "            <td>Product Knowledge</td>\n",
       "            <td>11</td>\n",
       "            <td>Mike</td>\n",
       "            <td>Donlon</td>\n",
       "        </tr>\n",
       "        <tr>\n",
       "            <td>3</td>\n",
       "            <td>Safety Training</td>\n",
       "            <td>4</td>\n",
       "            <td>Maria</td>\n",
       "            <td>Garcia</td>\n",
       "        </tr>\n",
       "        <tr>\n",
       "            <td>9</td>\n",
       "            <td>Sales Skills</td>\n",
       "            <td>12</td>\n",
       "            <td>Kathy</td>\n",
       "            <td>Corby</td>\n",
       "        </tr>\n",
       "        <tr>\n",
       "            <td>7</td>\n",
       "            <td>Security and Privacy</td>\n",
       "            <td>10</td>\n",
       "            <td>Maria</td>\n",
       "            <td>Rodriguez</td>\n",
       "        </tr>\n",
       "        <tr>\n",
       "            <td>11</td>\n",
       "            <td>Travel and Expense Management</td>\n",
       "            <td>15</td>\n",
       "            <td>Jordan</td>\n",
       "            <td>None</td>\n",
       "        </tr>\n",
       "        <tr>\n",
       "            <td>11</td>\n",
       "            <td>Travel and Expense Management</td>\n",
       "            <td>16</td>\n",
       "            <td>Maria</td>\n",
       "            <td>Hernandez</td>\n",
       "        </tr>\n",
       "    </tbody>\n",
       "</table>"
      ],
      "text/plain": [
       "[(1, 'COVID-19 Awareness and Protection Training', 1, 'James', 'Smith'),\n",
       " (1, 'COVID-19 Awareness and Protection Training', 2, 'Johnny', 'Khor'),\n",
       " (2, 'Code of Conduct Training', 3, 'Michael', 'Smith'),\n",
       " (10, 'Employee Relations', 13, 'Mary', 'Garcia'),\n",
       " (10, 'Employee Relations', 14, 'Vanessa', None),\n",
       " (4, 'Intro to Python', 5, 'John', None),\n",
       " (4, 'Intro to Python', 6, 'Paul', 'Deitel'),\n",
       " (5, 'Machine Learning', 8, 'Avinash', 'Navlani'),\n",
       " (5, 'Machine Learning', 7, 'Mike', 'Taylor'),\n",
       " (6, 'Microsoft Certifications', 9, 'Robert', 'Smith'),\n",
       " (8, 'Product Knowledge', 11, 'Mike', 'Donlon'),\n",
       " (3, 'Safety Training', 4, 'Maria', 'Garcia'),\n",
       " (9, 'Sales Skills', 12, 'Kathy', 'Corby'),\n",
       " (7, 'Security and Privacy', 10, 'Maria', 'Rodriguez'),\n",
       " (11, 'Travel and Expense Management', 15, 'Jordan', None),\n",
       " (11, 'Travel and Expense Management', 16, 'Maria', 'Hernandez')]"
      ]
     },
     "execution_count": 38,
     "metadata": {},
     "output_type": "execute_result"
    }
   ],
   "source": [
    "%%sql\n",
    "\n",
    "SELECT T.TrainingID, T.TrainingName, TR.TrainerID, TR.TrainerFirstName, TR.TrainerLastName\n",
    "FROM Training T\n",
    "LEFT JOIN Trainer TR ON T.TrainingID = TR.TrainingID\n",
    "ORDER BY T.TrainingName, TR.TrainerFirstName, TR.TrainerLastName;"
   ]
  },
  {
   "cell_type": "code",
   "execution_count": null,
   "id": "33d3e24a",
   "metadata": {},
   "outputs": [],
   "source": []
  },
  {
   "cell_type": "markdown",
   "id": "6785549b",
   "metadata": {},
   "source": [
    "#### 4. Write a multiple-row subquery to display EmployeeID, FirstName, LastName, and HireDate of employees who work for the following departments: Accounting and Finance, IT Support, and Production. Sort the results by EmployeeID. Make sure you show the print screen of the complete set of the rows and columns."
   ]
  },
  {
   "cell_type": "code",
   "execution_count": 39,
   "id": "d4466c84",
   "metadata": {},
   "outputs": [
    {
     "name": "stdout",
     "output_type": "stream",
     "text": [
      " * sqlite:////Users/HP/OneDrive/Desktop/SQL/Worker.db\n",
      "   sqlite:///worker.db\n",
      "Done.\n"
     ]
    },
    {
     "data": {
      "text/html": [
       "<table>\n",
       "    <thead>\n",
       "        <tr>\n",
       "            <th>EmployeeID</th>\n",
       "            <th>FirstName</th>\n",
       "            <th>LastName</th>\n",
       "            <th>HireDate</th>\n",
       "        </tr>\n",
       "    </thead>\n",
       "    <tbody>\n",
       "        <tr>\n",
       "            <td>1</td>\n",
       "            <td>Andy</td>\n",
       "            <td>Wong</td>\n",
       "            <td>2001-01-15</td>\n",
       "        </tr>\n",
       "        <tr>\n",
       "            <td>3</td>\n",
       "            <td>Vivek</td>\n",
       "            <td>Pandey</td>\n",
       "            <td>2003-11-15</td>\n",
       "        </tr>\n",
       "        <tr>\n",
       "            <td>6</td>\n",
       "            <td>Tom</td>\n",
       "            <td>Harper</td>\n",
       "            <td>2010-04-11</td>\n",
       "        </tr>\n",
       "    </tbody>\n",
       "</table>"
      ],
      "text/plain": [
       "[(1, 'Andy', 'Wong', '2001-01-15'),\n",
       " (3, 'Vivek', 'Pandey', '2003-11-15'),\n",
       " (6, 'Tom', 'Harper', '2010-04-11')]"
      ]
     },
     "execution_count": 39,
     "metadata": {},
     "output_type": "execute_result"
    }
   ],
   "source": [
    "%%sql\n",
    "\n",
    "SELECT EmployeeID, FirstName, LastName, HireDate\n",
    "FROM Employee\n",
    "WHERE DepartmentID IN (\n",
    "    SELECT DepartmentID\n",
    "    FROM Department\n",
    "    WHERE DepartmentNm IN ('Accounting and Finance', 'IT Support', 'Production')\n",
    ")\n",
    "ORDER BY EmployeeID;"
   ]
  },
  {
   "cell_type": "code",
   "execution_count": null,
   "id": "25170ea3",
   "metadata": {},
   "outputs": [],
   "source": []
  },
  {
   "cell_type": "markdown",
   "id": "d68142a7",
   "metadata": {},
   "source": [
    "#### 5. Write a query to display the EmployeeID, FirstName, LastName, EquipmentName, and EquipmentCostAmount for two of the employees. Sort the results by EmployeeID. Make sure you show the print screen of the complete set of the rows and columns."
   ]
  },
  {
   "cell_type": "code",
   "execution_count": 40,
   "id": "a8f5d74c",
   "metadata": {},
   "outputs": [
    {
     "name": "stdout",
     "output_type": "stream",
     "text": [
      " * sqlite:////Users/HP/OneDrive/Desktop/SQL/Worker.db\n",
      "   sqlite:///worker.db\n",
      "Done.\n"
     ]
    },
    {
     "data": {
      "text/html": [
       "<table>\n",
       "    <thead>\n",
       "        <tr>\n",
       "            <th>EmployeeID</th>\n",
       "            <th>FirstName</th>\n",
       "            <th>LastName</th>\n",
       "            <th>EquipmentName</th>\n",
       "            <th>EquipmentCostAmount</th>\n",
       "        </tr>\n",
       "    </thead>\n",
       "    <tbody>\n",
       "        <tr>\n",
       "            <td>1</td>\n",
       "            <td>Andy</td>\n",
       "            <td>Wong</td>\n",
       "            <td>Notebook Computers</td>\n",
       "            <td>1000</td>\n",
       "        </tr>\n",
       "        <tr>\n",
       "            <td>2</td>\n",
       "            <td>John</td>\n",
       "            <td>Wilson</td>\n",
       "            <td>Notebook Computers</td>\n",
       "            <td>1000</td>\n",
       "        </tr>\n",
       "        <tr>\n",
       "            <td>2</td>\n",
       "            <td>John</td>\n",
       "            <td>Wilson</td>\n",
       "            <td>Computer Monitor</td>\n",
       "            <td>1500</td>\n",
       "        </tr>\n",
       "    </tbody>\n",
       "</table>"
      ],
      "text/plain": [
       "[(1, 'Andy', 'Wong', 'Notebook Computers', 1000),\n",
       " (2, 'John', 'Wilson', 'Notebook Computers', 1000),\n",
       " (2, 'John', 'Wilson', 'Computer Monitor', 1500)]"
      ]
     },
     "execution_count": 40,
     "metadata": {},
     "output_type": "execute_result"
    }
   ],
   "source": [
    "%%sql\n",
    "\n",
    "SELECT E.EmployeeID, E.FirstName, E.LastName, EQ.EquipmentName, EQ.EquipmentCostAmount\n",
    "FROM Employee E\n",
    "INNER JOIN EmployeeEquipment EE ON E.EmployeeID = EE.EmployeeID\n",
    "INNER JOIN Equipment EQ ON EE.EquipmentID = EQ.EquipmentID\n",
    "WHERE E.EmployeeID IN (1, 2)\n",
    "ORDER BY E.EmployeeID;"
   ]
  },
  {
   "cell_type": "code",
   "execution_count": null,
   "id": "fe953b0a",
   "metadata": {},
   "outputs": [],
   "source": []
  },
  {
   "cell_type": "markdown",
   "id": "be8cfedc",
   "metadata": {},
   "source": [
    "#### 6. Write a query to display the TrainingID, TrainingName, TrainerID, TrainerFirstName, and TrainerLastName with the trainers who did not provide their last name. Sort the results by TrainingID and TrainerID. Make sure you show the print screen of the complete set of the rows and columns."
   ]
  },
  {
   "cell_type": "code",
   "execution_count": 41,
   "id": "9b03616f",
   "metadata": {},
   "outputs": [
    {
     "name": "stdout",
     "output_type": "stream",
     "text": [
      " * sqlite:////Users/HP/OneDrive/Desktop/SQL/Worker.db\n",
      "   sqlite:///worker.db\n",
      "Done.\n"
     ]
    },
    {
     "data": {
      "text/html": [
       "<table>\n",
       "    <thead>\n",
       "        <tr>\n",
       "            <th>TrainingID</th>\n",
       "            <th>TrainingName</th>\n",
       "            <th>TrainerID</th>\n",
       "            <th>TrainerFirstName</th>\n",
       "            <th>TrainerLastName</th>\n",
       "        </tr>\n",
       "    </thead>\n",
       "    <tbody>\n",
       "        <tr>\n",
       "            <td>4</td>\n",
       "            <td>Intro to Python</td>\n",
       "            <td>5</td>\n",
       "            <td>John</td>\n",
       "            <td>None</td>\n",
       "        </tr>\n",
       "        <tr>\n",
       "            <td>10</td>\n",
       "            <td>Employee Relations</td>\n",
       "            <td>14</td>\n",
       "            <td>Vanessa</td>\n",
       "            <td>None</td>\n",
       "        </tr>\n",
       "        <tr>\n",
       "            <td>11</td>\n",
       "            <td>Travel and Expense Management</td>\n",
       "            <td>15</td>\n",
       "            <td>Jordan</td>\n",
       "            <td>None</td>\n",
       "        </tr>\n",
       "    </tbody>\n",
       "</table>"
      ],
      "text/plain": [
       "[(4, 'Intro to Python', 5, 'John', None),\n",
       " (10, 'Employee Relations', 14, 'Vanessa', None),\n",
       " (11, 'Travel and Expense Management', 15, 'Jordan', None)]"
      ]
     },
     "execution_count": 41,
     "metadata": {},
     "output_type": "execute_result"
    }
   ],
   "source": [
    "%%sql\n",
    "\n",
    "SELECT T.TrainingID, T.TrainingName, TR.TrainerID, TR.TrainerFirstName, TR.TrainerLastName\n",
    "FROM Training T\n",
    "INNER JOIN Trainer TR ON T.TrainingID = TR.TrainingID\n",
    "WHERE TR.TrainerLastName IS NULL\n",
    "ORDER BY T.TrainingID, TR.TrainerID;"
   ]
  },
  {
   "cell_type": "code",
   "execution_count": null,
   "id": "4b5263f4",
   "metadata": {},
   "outputs": [],
   "source": []
  },
  {
   "cell_type": "markdown",
   "id": "07042f0a",
   "metadata": {},
   "source": [
    "#### 7. Write a query to display the distinct list of equipments used by the current employees. Sort the output by EquipmentName. Make sure you show the print screen of the complete set of the rows and columns."
   ]
  },
  {
   "cell_type": "code",
   "execution_count": 42,
   "id": "d9251596",
   "metadata": {},
   "outputs": [
    {
     "name": "stdout",
     "output_type": "stream",
     "text": [
      " * sqlite:////Users/HP/OneDrive/Desktop/SQL/Worker.db\n",
      "   sqlite:///worker.db\n",
      "Done.\n"
     ]
    },
    {
     "data": {
      "text/html": [
       "<table>\n",
       "    <thead>\n",
       "        <tr>\n",
       "            <th>EquipmentID</th>\n",
       "            <th>EquipmentName</th>\n",
       "            <th>EquipmentCostAmount</th>\n",
       "        </tr>\n",
       "    </thead>\n",
       "    <tbody>\n",
       "        <tr>\n",
       "            <td>3</td>\n",
       "            <td>Computer Monitor</td>\n",
       "            <td>1500</td>\n",
       "        </tr>\n",
       "        <tr>\n",
       "            <td>2</td>\n",
       "            <td>Headsets</td>\n",
       "            <td>200</td>\n",
       "        </tr>\n",
       "        <tr>\n",
       "            <td>1</td>\n",
       "            <td>Notebook Computers</td>\n",
       "            <td>1000</td>\n",
       "        </tr>\n",
       "    </tbody>\n",
       "</table>"
      ],
      "text/plain": [
       "[(3, 'Computer Monitor', 1500),\n",
       " (2, 'Headsets', 200),\n",
       " (1, 'Notebook Computers', 1000)]"
      ]
     },
     "execution_count": 42,
     "metadata": {},
     "output_type": "execute_result"
    }
   ],
   "source": [
    "%%sql\n",
    "\n",
    "SELECT DISTINCT EQ.EquipmentID, EQ.EquipmentName, EQ.EquipmentCostAmount\n",
    "FROM Equipment EQ\n",
    "INNER JOIN EmployeeEquipment EE ON EQ.EquipmentID = EE.EquipmentID\n",
    "ORDER BY EQ.EquipmentName;"
   ]
  },
  {
   "cell_type": "code",
   "execution_count": null,
   "id": "2b938a3d",
   "metadata": {},
   "outputs": [],
   "source": []
  },
  {
   "cell_type": "markdown",
   "id": "03526081",
   "metadata": {},
   "source": [
    "#### 8. Write a query to display the FirstName, LastName, TrainingName, and trainer(s) (with first and last name in two separate columns) for two of the employees. Sort the results by employee LastName and TrainingName. Make sure you show the print screen of the complete set of the rows and columns."
   ]
  },
  {
   "cell_type": "code",
   "execution_count": 43,
   "id": "df456472",
   "metadata": {},
   "outputs": [
    {
     "name": "stdout",
     "output_type": "stream",
     "text": [
      " * sqlite:////Users/HP/OneDrive/Desktop/SQL/Worker.db\n",
      "   sqlite:///worker.db\n",
      "Done.\n"
     ]
    },
    {
     "data": {
      "text/html": [
       "<table>\n",
       "    <thead>\n",
       "        <tr>\n",
       "            <th>FirstName</th>\n",
       "            <th>LastName</th>\n",
       "            <th>TrainingName</th>\n",
       "            <th>TrainerFirstName</th>\n",
       "            <th>TrainerLastName</th>\n",
       "        </tr>\n",
       "    </thead>\n",
       "    <tbody>\n",
       "        <tr>\n",
       "            <td>John</td>\n",
       "            <td>Wilson</td>\n",
       "            <td>Code of Conduct Training</td>\n",
       "            <td>Michael</td>\n",
       "            <td>Smith</td>\n",
       "        </tr>\n",
       "        <tr>\n",
       "            <td>John</td>\n",
       "            <td>Wilson</td>\n",
       "            <td>Intro to Python</td>\n",
       "            <td>John</td>\n",
       "            <td>None</td>\n",
       "        </tr>\n",
       "        <tr>\n",
       "            <td>John</td>\n",
       "            <td>Wilson</td>\n",
       "            <td>Intro to Python</td>\n",
       "            <td>Paul</td>\n",
       "            <td>Deitel</td>\n",
       "        </tr>\n",
       "        <tr>\n",
       "            <td>John</td>\n",
       "            <td>Wilson</td>\n",
       "            <td>Machine Learning</td>\n",
       "            <td>Mike</td>\n",
       "            <td>Taylor</td>\n",
       "        </tr>\n",
       "        <tr>\n",
       "            <td>John</td>\n",
       "            <td>Wilson</td>\n",
       "            <td>Machine Learning</td>\n",
       "            <td>Avinash</td>\n",
       "            <td>Navlani</td>\n",
       "        </tr>\n",
       "        <tr>\n",
       "            <td>Andy</td>\n",
       "            <td>Wong</td>\n",
       "            <td>Code of Conduct Training</td>\n",
       "            <td>Michael</td>\n",
       "            <td>Smith</td>\n",
       "        </tr>\n",
       "        <tr>\n",
       "            <td>Andy</td>\n",
       "            <td>Wong</td>\n",
       "            <td>Safety Training</td>\n",
       "            <td>Maria</td>\n",
       "            <td>Garcia</td>\n",
       "        </tr>\n",
       "    </tbody>\n",
       "</table>"
      ],
      "text/plain": [
       "[('John', 'Wilson', 'Code of Conduct Training', 'Michael', 'Smith'),\n",
       " ('John', 'Wilson', 'Intro to Python', 'John', None),\n",
       " ('John', 'Wilson', 'Intro to Python', 'Paul', 'Deitel'),\n",
       " ('John', 'Wilson', 'Machine Learning', 'Mike', 'Taylor'),\n",
       " ('John', 'Wilson', 'Machine Learning', 'Avinash', 'Navlani'),\n",
       " ('Andy', 'Wong', 'Code of Conduct Training', 'Michael', 'Smith'),\n",
       " ('Andy', 'Wong', 'Safety Training', 'Maria', 'Garcia')]"
      ]
     },
     "execution_count": 43,
     "metadata": {},
     "output_type": "execute_result"
    }
   ],
   "source": [
    "%%sql\n",
    "\n",
    "SELECT E.FirstName, E.LastName, T.TrainingName, TR.TrainerFirstName, TR.TrainerLastName\n",
    "FROM Employee E\n",
    "INNER JOIN EmployeeTraining ET ON E.EmployeeID = ET.EmployeeID\n",
    "INNER JOIN Training T ON ET.TrainingID = T.TrainingID\n",
    "LEFT JOIN Trainer TR ON T.TrainingID = TR.TrainingID\n",
    "WHERE E.EmployeeID IN (1, 2)\n",
    "ORDER BY E.LastName, T.TrainingName;"
   ]
  },
  {
   "cell_type": "code",
   "execution_count": null,
   "id": "33152ab6",
   "metadata": {},
   "outputs": [],
   "source": []
  },
  {
   "cell_type": "markdown",
   "id": "5c041b5b",
   "metadata": {},
   "source": [
    "#### 9. Write a query to display the EmployeeID, FirstName, LastName, DepartmentID, DepartmentName, EquipmentID, EquipmentName for all employees. Sort the results by EmployeeID, DepartmentID, and EquipmentID. Make sure you show the print screen of the complete set of the rows and columns."
   ]
  },
  {
   "cell_type": "code",
   "execution_count": 44,
   "id": "87be8e02",
   "metadata": {},
   "outputs": [
    {
     "name": "stdout",
     "output_type": "stream",
     "text": [
      " * sqlite:////Users/HP/OneDrive/Desktop/SQL/Worker.db\n",
      "   sqlite:///worker.db\n",
      "Done.\n"
     ]
    },
    {
     "data": {
      "text/html": [
       "<table>\n",
       "    <thead>\n",
       "        <tr>\n",
       "            <th>EmployeeID</th>\n",
       "            <th>FirstName</th>\n",
       "            <th>LastName</th>\n",
       "            <th>DepartmentID</th>\n",
       "            <th>DepartmentNm</th>\n",
       "            <th>EquipmentID</th>\n",
       "            <th>EquipmentName</th>\n",
       "        </tr>\n",
       "    </thead>\n",
       "    <tbody>\n",
       "        <tr>\n",
       "            <td>1</td>\n",
       "            <td>Andy</td>\n",
       "            <td>Wong</td>\n",
       "            <td>2</td>\n",
       "            <td>Production</td>\n",
       "            <td>1</td>\n",
       "            <td>Notebook Computers</td>\n",
       "        </tr>\n",
       "        <tr>\n",
       "            <td>2</td>\n",
       "            <td>John</td>\n",
       "            <td>Wilson</td>\n",
       "            <td>1</td>\n",
       "            <td>Research &amp; Development</td>\n",
       "            <td>1</td>\n",
       "            <td>Notebook Computers</td>\n",
       "        </tr>\n",
       "        <tr>\n",
       "            <td>2</td>\n",
       "            <td>John</td>\n",
       "            <td>Wilson</td>\n",
       "            <td>1</td>\n",
       "            <td>Research &amp; Development</td>\n",
       "            <td>3</td>\n",
       "            <td>Computer Monitor</td>\n",
       "        </tr>\n",
       "        <tr>\n",
       "            <td>3</td>\n",
       "            <td>Vivek</td>\n",
       "            <td>Pandey</td>\n",
       "            <td>3</td>\n",
       "            <td>IT Support</td>\n",
       "            <td>1</td>\n",
       "            <td>Notebook Computers</td>\n",
       "        </tr>\n",
       "        <tr>\n",
       "            <td>3</td>\n",
       "            <td>Vivek</td>\n",
       "            <td>Pandey</td>\n",
       "            <td>3</td>\n",
       "            <td>IT Support</td>\n",
       "            <td>2</td>\n",
       "            <td>Headsets</td>\n",
       "        </tr>\n",
       "        <tr>\n",
       "            <td>3</td>\n",
       "            <td>Vivek</td>\n",
       "            <td>Pandey</td>\n",
       "            <td>3</td>\n",
       "            <td>IT Support</td>\n",
       "            <td>3</td>\n",
       "            <td>Computer Monitor</td>\n",
       "        </tr>\n",
       "        <tr>\n",
       "            <td>4</td>\n",
       "            <td>Nola</td>\n",
       "            <td>Davis</td>\n",
       "            <td>7</td>\n",
       "            <td>Sales &amp; Marketing</td>\n",
       "            <td>1</td>\n",
       "            <td>Notebook Computers</td>\n",
       "        </tr>\n",
       "        <tr>\n",
       "            <td>4</td>\n",
       "            <td>Nola</td>\n",
       "            <td>Davis</td>\n",
       "            <td>7</td>\n",
       "            <td>Sales &amp; Marketing</td>\n",
       "            <td>2</td>\n",
       "            <td>Headsets</td>\n",
       "        </tr>\n",
       "        <tr>\n",
       "            <td>5</td>\n",
       "            <td>Kathy</td>\n",
       "            <td>Cooper</td>\n",
       "            <td>8</td>\n",
       "            <td>Human Resource Management</td>\n",
       "            <td>1</td>\n",
       "            <td>Notebook Computers</td>\n",
       "        </tr>\n",
       "        <tr>\n",
       "            <td>5</td>\n",
       "            <td>Kathy</td>\n",
       "            <td>Cooper</td>\n",
       "            <td>8</td>\n",
       "            <td>Human Resource Management</td>\n",
       "            <td>2</td>\n",
       "            <td>Headsets</td>\n",
       "        </tr>\n",
       "        <tr>\n",
       "            <td>5</td>\n",
       "            <td>Kathy</td>\n",
       "            <td>Cooper</td>\n",
       "            <td>8</td>\n",
       "            <td>Human Resource Management</td>\n",
       "            <td>3</td>\n",
       "            <td>Computer Monitor</td>\n",
       "        </tr>\n",
       "        <tr>\n",
       "            <td>6</td>\n",
       "            <td>Tom</td>\n",
       "            <td>Harper</td>\n",
       "            <td>9</td>\n",
       "            <td>Accounting and Finance</td>\n",
       "            <td>1</td>\n",
       "            <td>Notebook Computers</td>\n",
       "        </tr>\n",
       "        <tr>\n",
       "            <td>6</td>\n",
       "            <td>Tom</td>\n",
       "            <td>Harper</td>\n",
       "            <td>9</td>\n",
       "            <td>Accounting and Finance</td>\n",
       "            <td>3</td>\n",
       "            <td>Computer Monitor</td>\n",
       "        </tr>\n",
       "    </tbody>\n",
       "</table>"
      ],
      "text/plain": [
       "[(1, 'Andy', 'Wong', 2, 'Production', 1, 'Notebook Computers'),\n",
       " (2, 'John', 'Wilson', 1, 'Research & Development', 1, 'Notebook Computers'),\n",
       " (2, 'John', 'Wilson', 1, 'Research & Development', 3, 'Computer Monitor'),\n",
       " (3, 'Vivek', 'Pandey', 3, 'IT Support', 1, 'Notebook Computers'),\n",
       " (3, 'Vivek', 'Pandey', 3, 'IT Support', 2, 'Headsets'),\n",
       " (3, 'Vivek', 'Pandey', 3, 'IT Support', 3, 'Computer Monitor'),\n",
       " (4, 'Nola', 'Davis', 7, 'Sales & Marketing', 1, 'Notebook Computers'),\n",
       " (4, 'Nola', 'Davis', 7, 'Sales & Marketing', 2, 'Headsets'),\n",
       " (5, 'Kathy', 'Cooper', 8, 'Human Resource Management', 1, 'Notebook Computers'),\n",
       " (5, 'Kathy', 'Cooper', 8, 'Human Resource Management', 2, 'Headsets'),\n",
       " (5, 'Kathy', 'Cooper', 8, 'Human Resource Management', 3, 'Computer Monitor'),\n",
       " (6, 'Tom', 'Harper', 9, 'Accounting and Finance', 1, 'Notebook Computers'),\n",
       " (6, 'Tom', 'Harper', 9, 'Accounting and Finance', 3, 'Computer Monitor')]"
      ]
     },
     "execution_count": 44,
     "metadata": {},
     "output_type": "execute_result"
    }
   ],
   "source": [
    "%%sql\n",
    "\n",
    "SELECT E.EmployeeID, E.FirstName, E.LastName, E.DepartmentID, D.DepartmentNm, EQ.EquipmentID, EQ.EquipmentName\n",
    "FROM Employee E\n",
    "INNER JOIN Department D ON E.DepartmentID = D.DepartmentID\n",
    "LEFT JOIN EmployeeEquipment EE ON E.EmployeeID = EE.EmployeeID\n",
    "LEFT JOIN Equipment EQ ON EE.EquipmentID = EQ.EquipmentID\n",
    "ORDER BY E.EmployeeID, E.DepartmentID, EQ.EquipmentID;"
   ]
  },
  {
   "cell_type": "code",
   "execution_count": null,
   "id": "62cd8c14",
   "metadata": {},
   "outputs": [],
   "source": []
  },
  {
   "cell_type": "markdown",
   "id": "1ff83fc6",
   "metadata": {},
   "source": [
    "#### 10. Write a query to display the EmployeeID, FirstName, LastName, DepartmentID, DepartmentName, TrainingID, TrainingName for all employees. Sort the results by EmployeeID, DepartmentID, and TrainingID. Make sure you show the print screen of the complete set of the rows and columns."
   ]
  },
  {
   "cell_type": "code",
   "execution_count": 45,
   "id": "c2e60cef",
   "metadata": {},
   "outputs": [
    {
     "name": "stdout",
     "output_type": "stream",
     "text": [
      " * sqlite:////Users/HP/OneDrive/Desktop/SQL/Worker.db\n",
      "   sqlite:///worker.db\n",
      "Done.\n"
     ]
    },
    {
     "data": {
      "text/html": [
       "<table>\n",
       "    <thead>\n",
       "        <tr>\n",
       "            <th>EmployeeID</th>\n",
       "            <th>FirstName</th>\n",
       "            <th>LastName</th>\n",
       "            <th>DepartmentID</th>\n",
       "            <th>DepartmentNm</th>\n",
       "            <th>TrainingID</th>\n",
       "            <th>TrainingName</th>\n",
       "        </tr>\n",
       "    </thead>\n",
       "    <tbody>\n",
       "        <tr>\n",
       "            <td>1</td>\n",
       "            <td>Andy</td>\n",
       "            <td>Wong</td>\n",
       "            <td>2</td>\n",
       "            <td>Production</td>\n",
       "            <td>2</td>\n",
       "            <td>Code of Conduct Training</td>\n",
       "        </tr>\n",
       "        <tr>\n",
       "            <td>1</td>\n",
       "            <td>Andy</td>\n",
       "            <td>Wong</td>\n",
       "            <td>2</td>\n",
       "            <td>Production</td>\n",
       "            <td>3</td>\n",
       "            <td>Safety Training</td>\n",
       "        </tr>\n",
       "        <tr>\n",
       "            <td>2</td>\n",
       "            <td>John</td>\n",
       "            <td>Wilson</td>\n",
       "            <td>1</td>\n",
       "            <td>Research &amp; Development</td>\n",
       "            <td>2</td>\n",
       "            <td>Code of Conduct Training</td>\n",
       "        </tr>\n",
       "        <tr>\n",
       "            <td>2</td>\n",
       "            <td>John</td>\n",
       "            <td>Wilson</td>\n",
       "            <td>1</td>\n",
       "            <td>Research &amp; Development</td>\n",
       "            <td>4</td>\n",
       "            <td>Intro to Python</td>\n",
       "        </tr>\n",
       "        <tr>\n",
       "            <td>2</td>\n",
       "            <td>John</td>\n",
       "            <td>Wilson</td>\n",
       "            <td>1</td>\n",
       "            <td>Research &amp; Development</td>\n",
       "            <td>5</td>\n",
       "            <td>Machine Learning</td>\n",
       "        </tr>\n",
       "        <tr>\n",
       "            <td>3</td>\n",
       "            <td>Vivek</td>\n",
       "            <td>Pandey</td>\n",
       "            <td>3</td>\n",
       "            <td>IT Support</td>\n",
       "            <td>2</td>\n",
       "            <td>Code of Conduct Training</td>\n",
       "        </tr>\n",
       "        <tr>\n",
       "            <td>3</td>\n",
       "            <td>Vivek</td>\n",
       "            <td>Pandey</td>\n",
       "            <td>3</td>\n",
       "            <td>IT Support</td>\n",
       "            <td>6</td>\n",
       "            <td>Microsoft Certifications</td>\n",
       "        </tr>\n",
       "        <tr>\n",
       "            <td>3</td>\n",
       "            <td>Vivek</td>\n",
       "            <td>Pandey</td>\n",
       "            <td>3</td>\n",
       "            <td>IT Support</td>\n",
       "            <td>7</td>\n",
       "            <td>Security and Privacy</td>\n",
       "        </tr>\n",
       "        <tr>\n",
       "            <td>4</td>\n",
       "            <td>Nola</td>\n",
       "            <td>Davis</td>\n",
       "            <td>7</td>\n",
       "            <td>Sales &amp; Marketing</td>\n",
       "            <td>2</td>\n",
       "            <td>Code of Conduct Training</td>\n",
       "        </tr>\n",
       "        <tr>\n",
       "            <td>4</td>\n",
       "            <td>Nola</td>\n",
       "            <td>Davis</td>\n",
       "            <td>7</td>\n",
       "            <td>Sales &amp; Marketing</td>\n",
       "            <td>8</td>\n",
       "            <td>Product Knowledge</td>\n",
       "        </tr>\n",
       "        <tr>\n",
       "            <td>4</td>\n",
       "            <td>Nola</td>\n",
       "            <td>Davis</td>\n",
       "            <td>7</td>\n",
       "            <td>Sales &amp; Marketing</td>\n",
       "            <td>9</td>\n",
       "            <td>Sales Skills</td>\n",
       "        </tr>\n",
       "        <tr>\n",
       "            <td>5</td>\n",
       "            <td>Kathy</td>\n",
       "            <td>Cooper</td>\n",
       "            <td>8</td>\n",
       "            <td>Human Resource Management</td>\n",
       "            <td>2</td>\n",
       "            <td>Code of Conduct Training</td>\n",
       "        </tr>\n",
       "        <tr>\n",
       "            <td>5</td>\n",
       "            <td>Kathy</td>\n",
       "            <td>Cooper</td>\n",
       "            <td>8</td>\n",
       "            <td>Human Resource Management</td>\n",
       "            <td>10</td>\n",
       "            <td>Employee Relations</td>\n",
       "        </tr>\n",
       "        <tr>\n",
       "            <td>6</td>\n",
       "            <td>Tom</td>\n",
       "            <td>Harper</td>\n",
       "            <td>9</td>\n",
       "            <td>Accounting and Finance</td>\n",
       "            <td>2</td>\n",
       "            <td>Code of Conduct Training</td>\n",
       "        </tr>\n",
       "        <tr>\n",
       "            <td>6</td>\n",
       "            <td>Tom</td>\n",
       "            <td>Harper</td>\n",
       "            <td>9</td>\n",
       "            <td>Accounting and Finance</td>\n",
       "            <td>11</td>\n",
       "            <td>Travel and Expense Management</td>\n",
       "        </tr>\n",
       "    </tbody>\n",
       "</table>"
      ],
      "text/plain": [
       "[(1, 'Andy', 'Wong', 2, 'Production', 2, 'Code of Conduct Training'),\n",
       " (1, 'Andy', 'Wong', 2, 'Production', 3, 'Safety Training'),\n",
       " (2, 'John', 'Wilson', 1, 'Research & Development', 2, 'Code of Conduct Training'),\n",
       " (2, 'John', 'Wilson', 1, 'Research & Development', 4, 'Intro to Python'),\n",
       " (2, 'John', 'Wilson', 1, 'Research & Development', 5, 'Machine Learning'),\n",
       " (3, 'Vivek', 'Pandey', 3, 'IT Support', 2, 'Code of Conduct Training'),\n",
       " (3, 'Vivek', 'Pandey', 3, 'IT Support', 6, 'Microsoft Certifications'),\n",
       " (3, 'Vivek', 'Pandey', 3, 'IT Support', 7, 'Security and Privacy'),\n",
       " (4, 'Nola', 'Davis', 7, 'Sales & Marketing', 2, 'Code of Conduct Training'),\n",
       " (4, 'Nola', 'Davis', 7, 'Sales & Marketing', 8, 'Product Knowledge'),\n",
       " (4, 'Nola', 'Davis', 7, 'Sales & Marketing', 9, 'Sales Skills'),\n",
       " (5, 'Kathy', 'Cooper', 8, 'Human Resource Management', 2, 'Code of Conduct Training'),\n",
       " (5, 'Kathy', 'Cooper', 8, 'Human Resource Management', 10, 'Employee Relations'),\n",
       " (6, 'Tom', 'Harper', 9, 'Accounting and Finance', 2, 'Code of Conduct Training'),\n",
       " (6, 'Tom', 'Harper', 9, 'Accounting and Finance', 11, 'Travel and Expense Management')]"
      ]
     },
     "execution_count": 45,
     "metadata": {},
     "output_type": "execute_result"
    }
   ],
   "source": [
    "%%sql\n",
    "\n",
    "SELECT E.EmployeeID, E.FirstName, E.LastName, E.DepartmentID, D.DepartmentNm, T.TrainingID, T.TrainingName\n",
    "FROM Employee E\n",
    "INNER JOIN Department D ON E.DepartmentID = D.DepartmentID\n",
    "LEFT JOIN EmployeeTraining ET ON E.EmployeeID = ET.EmployeeID\n",
    "LEFT JOIN Training T ON ET.TrainingID = T.TrainingID\n",
    "ORDER BY E.EmployeeID, E.DepartmentID, T.TrainingID;"
   ]
  },
  {
   "cell_type": "code",
   "execution_count": null,
   "id": "c1361186",
   "metadata": {},
   "outputs": [],
   "source": []
  },
  {
   "cell_type": "code",
   "execution_count": null,
   "id": "36a63c71",
   "metadata": {},
   "outputs": [],
   "source": []
  }
 ],
 "metadata": {
  "kernelspec": {
   "display_name": "Python 3",
   "language": "python",
   "name": "python3"
  },
  "language_info": {
   "codemirror_mode": {
    "name": "ipython",
    "version": 3
   },
   "file_extension": ".py",
   "mimetype": "text/x-python",
   "name": "python",
   "nbconvert_exporter": "python",
   "pygments_lexer": "ipython3",
   "version": "3.8.8"
  }
 },
 "nbformat": 4,
 "nbformat_minor": 5
}
