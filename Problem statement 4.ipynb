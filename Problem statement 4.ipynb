{
 "cells": [
  {
   "cell_type": "markdown",
   "id": "1dbb34b7",
   "metadata": {},
   "source": [
    "#### Student’s Full Name: Anmol Tripathi\n",
    "#### Course Title: SQL/NoSQL Databases for Data and Information Sciences\n",
    "#### Term name and year: Fall 2023\n",
    "#### Submission Week: 5\n",
    "#### Instructor’s Name: Nayem Rahman\n",
    "#### Date of Submission : 09/24/2023"
   ]
  },
  {
   "cell_type": "code",
   "execution_count": 2,
   "id": "3454bedf",
   "metadata": {},
   "outputs": [],
   "source": [
    "import sqlite3\n",
    "import pandas as pd"
   ]
  },
  {
   "cell_type": "markdown",
   "id": "9061e76e",
   "metadata": {},
   "source": [
    "#### 1. Using the MySQL Workbench, create a database called Worker. The database must be named “Worker”."
   ]
  },
  {
   "cell_type": "code",
   "execution_count": 3,
   "id": "30200d0a",
   "metadata": {},
   "outputs": [],
   "source": [
    "Worker = \"Worker.db\""
   ]
  },
  {
   "cell_type": "code",
   "execution_count": 4,
   "id": "3a3f027a",
   "metadata": {},
   "outputs": [],
   "source": [
    "conn = sqlite3.connect(Worker)"
   ]
  },
  {
   "cell_type": "code",
   "execution_count": 5,
   "id": "f3c07d6e",
   "metadata": {},
   "outputs": [],
   "source": [
    "conn = sqlite3.connect('/Users/HP/OneDrive/Desktop/SQL/Worker.db')"
   ]
  },
  {
   "cell_type": "code",
   "execution_count": 6,
   "id": "b5ed4f57",
   "metadata": {},
   "outputs": [],
   "source": [
    "%load_ext sql"
   ]
  },
  {
   "cell_type": "code",
   "execution_count": 7,
   "id": "dccc7275",
   "metadata": {},
   "outputs": [
    {
     "name": "stdout",
     "output_type": "stream",
     "text": [
      "The sql extension is already loaded. To reload it, use:\n",
      "  %reload_ext sql\n"
     ]
    }
   ],
   "source": [
    "%load_ext sql\n",
    "\n",
    "\n",
    "%sql sqlite:////Users/HP/OneDrive/Desktop/SQL/Worker.db"
   ]
  },
  {
   "cell_type": "markdown",
   "id": "2241c26b",
   "metadata": {},
   "source": [
    "#### 2. Create the Department table in the Worker database (table must be based on Physical Model Provided in the Assignment folder). (a) Columns, Primary Key (PK), Data Type & length, and NULL/NOT NULL need to be implemented, as provided in the Physical Model. (b) Show the table definition (DDL) that you implemented. (c) Insert the complete set of data provided in the Excel file (uploaded in the Assignment folder) and show the insert statements used. (d) Retrieve the data from the Department table by using the SELECT * statement and order by PK column(s)."
   ]
  },
  {
   "cell_type": "code",
   "execution_count": 8,
   "id": "0ca2983c",
   "metadata": {},
   "outputs": [
    {
     "name": "stdout",
     "output_type": "stream",
     "text": [
      " * sqlite:////Users/HP/OneDrive/Desktop/SQL/Worker.db\n",
      "Done.\n",
      "10 rows affected.\n",
      "Done.\n"
     ]
    },
    {
     "data": {
      "text/html": [
       "<table>\n",
       "    <thead>\n",
       "        <tr>\n",
       "            <th>DepartmentID</th>\n",
       "            <th>DepartmentNm</th>\n",
       "        </tr>\n",
       "    </thead>\n",
       "    <tbody>\n",
       "        <tr>\n",
       "            <td>1</td>\n",
       "            <td>Research &amp; Development</td>\n",
       "        </tr>\n",
       "        <tr>\n",
       "            <td>2</td>\n",
       "            <td>Production</td>\n",
       "        </tr>\n",
       "        <tr>\n",
       "            <td>3</td>\n",
       "            <td>IT Support</td>\n",
       "        </tr>\n",
       "        <tr>\n",
       "            <td>4</td>\n",
       "            <td>Operations</td>\n",
       "        </tr>\n",
       "        <tr>\n",
       "            <td>5</td>\n",
       "            <td>Customer Service</td>\n",
       "        </tr>\n",
       "        <tr>\n",
       "            <td>6</td>\n",
       "            <td>Purchasing</td>\n",
       "        </tr>\n",
       "        <tr>\n",
       "            <td>7</td>\n",
       "            <td>Sales &amp; Marketing</td>\n",
       "        </tr>\n",
       "        <tr>\n",
       "            <td>8</td>\n",
       "            <td>Human Resource Management</td>\n",
       "        </tr>\n",
       "        <tr>\n",
       "            <td>9</td>\n",
       "            <td>Accounting and Finance</td>\n",
       "        </tr>\n",
       "        <tr>\n",
       "            <td>10</td>\n",
       "            <td>Legal Department</td>\n",
       "        </tr>\n",
       "    </tbody>\n",
       "</table>"
      ],
      "text/plain": [
       "[(1, 'Research & Development'),\n",
       " (2, 'Production'),\n",
       " (3, 'IT Support'),\n",
       " (4, 'Operations'),\n",
       " (5, 'Customer Service'),\n",
       " (6, 'Purchasing'),\n",
       " (7, 'Sales & Marketing'),\n",
       " (8, 'Human Resource Management'),\n",
       " (9, 'Accounting and Finance'),\n",
       " (10, 'Legal Department')]"
      ]
     },
     "execution_count": 8,
     "metadata": {},
     "output_type": "execute_result"
    }
   ],
   "source": [
    "%%sql\n",
    "\n",
    "CREATE TABLE Department (\n",
    "    DepartmentID TINYINT NOT NULL,\n",
    "    DepartmentNm CHAR(30) NOT NULL,\n",
    "    PRIMARY KEY (DepartmentID)\n",
    ");\n",
    "\n",
    "INSERT INTO Department (DepartmentID, DepartmentNm)\n",
    "VALUES\n",
    "    (1, 'Research & Development'),\n",
    "    (2, 'Production'),\n",
    "    (3, 'IT Support'),\n",
    "    (4, 'Operations'),\n",
    "    (5, 'Customer Service'),\n",
    "    (6, 'Purchasing'),\n",
    "    (7, 'Sales & Marketing'),\n",
    "    (8, 'Human Resource Management'),\n",
    "    (9, 'Accounting and Finance'),\n",
    "    (10, 'Legal Department');\n",
    "\n",
    "SELECT * FROM Department ORDER BY DepartmentID;\n"
   ]
  },
  {
   "cell_type": "code",
   "execution_count": null,
   "id": "8a1ca00c",
   "metadata": {},
   "outputs": [],
   "source": []
  },
  {
   "cell_type": "markdown",
   "id": "ce473c5b",
   "metadata": {},
   "source": [
    "#### 3. Create the Employee table in the Worker database (table must be based on Physical Model Provided in the Assignment folder). (a) Columns, Primary Key (PK), Data Type and length, and NULL/NOT NULL need to be implemented, as provided in the Physical Model. (b) Show the table definition (DDL) that you implemented (not in a graphical view). (c) Insert the complete set of data provided in the Excel file (uploaded in the Assignment folder) and show the insert statements used. (d) Retrieve the data from the Employee table by using the SELECT * statement and order by PK column(s)."
   ]
  },
  {
   "cell_type": "code",
   "execution_count": 9,
   "id": "a5611aac",
   "metadata": {},
   "outputs": [
    {
     "name": "stdout",
     "output_type": "stream",
     "text": [
      " * sqlite:////Users/HP/OneDrive/Desktop/SQL/Worker.db\n",
      "Done.\n",
      "6 rows affected.\n",
      "Done.\n"
     ]
    },
    {
     "data": {
      "text/html": [
       "<table>\n",
       "    <thead>\n",
       "        <tr>\n",
       "            <th>EmployeeID</th>\n",
       "            <th>DepartmentID</th>\n",
       "            <th>FirstName</th>\n",
       "            <th>LastName</th>\n",
       "            <th>Address</th>\n",
       "            <th>PhoneNumberTxt</th>\n",
       "            <th>HireDate</th>\n",
       "        </tr>\n",
       "    </thead>\n",
       "    <tbody>\n",
       "        <tr>\n",
       "            <td>1</td>\n",
       "            <td>2</td>\n",
       "            <td>Andy</td>\n",
       "            <td>Wong</td>\n",
       "            <td>345 South Street</td>\n",
       "            <td>(603) 555-6880</td>\n",
       "            <td>2001-01-15</td>\n",
       "        </tr>\n",
       "        <tr>\n",
       "            <td>2</td>\n",
       "            <td>1</td>\n",
       "            <td>John</td>\n",
       "            <td>Wilson</td>\n",
       "            <td>560 Broadway</td>\n",
       "            <td>(518) 555-6690</td>\n",
       "            <td>2017-03-19</td>\n",
       "        </tr>\n",
       "        <tr>\n",
       "            <td>3</td>\n",
       "            <td>3</td>\n",
       "            <td>Vivek</td>\n",
       "            <td>Pandey</td>\n",
       "            <td>15 Mineral Drive</td>\n",
       "            <td>(603) 555-4420</td>\n",
       "            <td>2003-11-15</td>\n",
       "        </tr>\n",
       "        <tr>\n",
       "            <td>4</td>\n",
       "            <td>7</td>\n",
       "            <td>Nola</td>\n",
       "            <td>Davis</td>\n",
       "            <td>15 Long Ave</td>\n",
       "            <td>(478) 555-8822</td>\n",
       "            <td>2016-03-23</td>\n",
       "        </tr>\n",
       "        <tr>\n",
       "            <td>5</td>\n",
       "            <td>8</td>\n",
       "            <td>Kathy</td>\n",
       "            <td>Cooper</td>\n",
       "            <td>15 Hatter Drive</td>\n",
       "            <td>(212) 555-9630</td>\n",
       "            <td>2011-11-18</td>\n",
       "        </tr>\n",
       "        <tr>\n",
       "            <td>6</td>\n",
       "            <td>9</td>\n",
       "            <td>Tom</td>\n",
       "            <td>Harper</td>\n",
       "            <td>64 Highland Street</td>\n",
       "            <td>(212) 555-7755</td>\n",
       "            <td>2010-04-11</td>\n",
       "        </tr>\n",
       "    </tbody>\n",
       "</table>"
      ],
      "text/plain": [
       "[(1, 2, 'Andy', 'Wong', '345 South Street', '(603) 555-6880', '2001-01-15'),\n",
       " (2, 1, 'John', 'Wilson', '560 Broadway', '(518) 555-6690', '2017-03-19'),\n",
       " (3, 3, 'Vivek', 'Pandey', '15 Mineral Drive', '(603) 555-4420', '2003-11-15'),\n",
       " (4, 7, 'Nola', 'Davis', '15 Long Ave', '(478) 555-8822', '2016-03-23'),\n",
       " (5, 8, 'Kathy', 'Cooper', '15 Hatter Drive', '(212) 555-9630', '2011-11-18'),\n",
       " (6, 9, 'Tom', 'Harper', '64 Highland Street', '(212) 555-7755', '2010-04-11')]"
      ]
     },
     "execution_count": 9,
     "metadata": {},
     "output_type": "execute_result"
    }
   ],
   "source": [
    "%%sql\n",
    "\n",
    "CREATE TABLE Employee (\n",
    "    EmployeeID INTEGER NOT NULL,\n",
    "    DepartmentID TINYINT NOT NULL,\n",
    "    FirstName VARCHAR(20) NOT NULL,\n",
    "    LastName VARCHAR(20) NOT NULL,\n",
    "    Address VARCHAR(50),\n",
    "    PhoneNumberTxt VARCHAR(15),\n",
    "    HireDate DATE NOT NULL,\n",
    "    PRIMARY KEY (EmployeeID),\n",
    "    FOREIGN KEY (DepartmentID) REFERENCES Department(DepartmentID)\n",
    ");\n",
    "\n",
    "INSERT INTO Employee (EmployeeID, DepartmentID, FirstName, LastName, Address, PhoneNumberTxt, HireDate)\n",
    "VALUES\n",
    "    (1, 2, 'Andy', 'Wong', '345 South Street', '(603) 555-6880', '2001-01-15'),\n",
    "    (2, 1, 'John', 'Wilson', '560 Broadway', '(518) 555-6690', '2017-03-19'),\n",
    "    (3, 3, 'Vivek', 'Pandey', '15 Mineral Drive', '(603) 555-4420', '2003-11-15'),\n",
    "    (4, 7, 'Nola', 'Davis', '15 Long Ave', '(478) 555-8822', '2016-03-23'),\n",
    "    (5, 8, 'Kathy', 'Cooper', '15 Hatter Drive', '(212) 555-9630', '2011-11-18'),\n",
    "    (6, 9, 'Tom', 'Harper', '64 Highland Street', '(212) 555-7755', '2010-04-11');\n",
    "\n",
    "SELECT * FROM Employee ORDER BY EmployeeID;"
   ]
  },
  {
   "cell_type": "code",
   "execution_count": null,
   "id": "c4b3699b",
   "metadata": {},
   "outputs": [],
   "source": []
  },
  {
   "cell_type": "markdown",
   "id": "b6b9d824",
   "metadata": {},
   "source": [
    "#### 4. Create the Equipment table in the Worker database (table must be based on Physical Model Provided in the Assignment folder). (a) Columns, Primary Key (PK), Data Type & length, and NULL/NOT NULL need to be implemented, as provided in the Physical Model. (b) Show the table definition (DDL) that you implemented. (c) Insert the complete set of data provided in the Excel file (uploaded in the Assignment folder) and show the insert statements used. (d) Retrieve the data from the Equipment table by using the SELECT * statement and order by PK column(s)."
   ]
  },
  {
   "cell_type": "code",
   "execution_count": 9,
   "id": "7aa62957",
   "metadata": {},
   "outputs": [
    {
     "name": "stdout",
     "output_type": "stream",
     "text": [
      " * sqlite:////Users/HP/OneDrive/Desktop/SQL/Worker.db\n",
      "Done.\n",
      "8 rows affected.\n",
      "Done.\n"
     ]
    },
    {
     "data": {
      "text/html": [
       "<table>\n",
       "    <thead>\n",
       "        <tr>\n",
       "            <th>EquipmentID</th>\n",
       "            <th>EquipmentName</th>\n",
       "            <th>EquipmentCostAmount</th>\n",
       "        </tr>\n",
       "    </thead>\n",
       "    <tbody>\n",
       "        <tr>\n",
       "            <td>1</td>\n",
       "            <td>Notebook Computers</td>\n",
       "            <td>1000</td>\n",
       "        </tr>\n",
       "        <tr>\n",
       "            <td>2</td>\n",
       "            <td>Headsets</td>\n",
       "            <td>200</td>\n",
       "        </tr>\n",
       "        <tr>\n",
       "            <td>3</td>\n",
       "            <td>Computer Monitor</td>\n",
       "            <td>1500</td>\n",
       "        </tr>\n",
       "        <tr>\n",
       "            <td>4</td>\n",
       "            <td>Multi-Function Printers</td>\n",
       "            <td>800</td>\n",
       "        </tr>\n",
       "        <tr>\n",
       "            <td>5</td>\n",
       "            <td>Projector or a Big Screen TV</td>\n",
       "            <td>600</td>\n",
       "        </tr>\n",
       "        <tr>\n",
       "            <td>6</td>\n",
       "            <td>Servers</td>\n",
       "            <td>300</td>\n",
       "        </tr>\n",
       "        <tr>\n",
       "            <td>7</td>\n",
       "            <td>Internet Modem</td>\n",
       "            <td>250</td>\n",
       "        </tr>\n",
       "        <tr>\n",
       "            <td>8</td>\n",
       "            <td>Cell Phone</td>\n",
       "            <td>1200</td>\n",
       "        </tr>\n",
       "    </tbody>\n",
       "</table>"
      ],
      "text/plain": [
       "[(1, 'Notebook Computers', 1000),\n",
       " (2, 'Headsets', 200),\n",
       " (3, 'Computer Monitor', 1500),\n",
       " (4, 'Multi-Function Printers', 800),\n",
       " (5, 'Projector or a Big Screen TV', 600),\n",
       " (6, 'Servers', 300),\n",
       " (7, 'Internet Modem', 250),\n",
       " (8, 'Cell Phone', 1200)]"
      ]
     },
     "execution_count": 9,
     "metadata": {},
     "output_type": "execute_result"
    }
   ],
   "source": [
    "%%sql\n",
    "\n",
    "CREATE TABLE Equipment (\n",
    "    EquipmentID INTEGER NOT NULL,\n",
    "    EquipmentName VARCHAR(30) NOT NULL,\n",
    "    EquipmentCostAmount DECIMAL(13,2),\n",
    "    PRIMARY KEY (EquipmentID)\n",
    ");\n",
    "\n",
    "INSERT INTO Equipment (EquipmentID, EquipmentName, EquipmentCostAmount)\n",
    "VALUES\n",
    "    (1, 'Notebook Computers', 1000.00),\n",
    "    (2, 'Headsets', 200.00),\n",
    "    (3, 'Computer Monitor', 1500.00),\n",
    "    (4, 'Multi-Function Printers', 800.00),\n",
    "    (5, 'Projector or a Big Screen TV', 600.00),\n",
    "    (6, 'Servers', 300.00),\n",
    "    (7, 'Internet Modem', 250.00),\n",
    "    (8, 'Cell Phone', 1200.00);\n",
    "\n",
    "SELECT * FROM Equipment ORDER BY EquipmentID;"
   ]
  },
  {
   "cell_type": "code",
   "execution_count": null,
   "id": "b1fee081",
   "metadata": {},
   "outputs": [],
   "source": []
  },
  {
   "cell_type": "markdown",
   "id": "9363e873",
   "metadata": {},
   "source": [
    "#### 5. Create the EmployeeEquipment table in the Worker database (table must be based on Physical Model Provided in the Assignment folder). (a) Columns, Primary Key (PK), Data Type & length, and NULL/NOT NULL need to be implemented, as provided in the Physical Model. (b) Show the table definition (DDL) that you implemented. (c) Insert the complete set of data provided in the Excel file (uploaded in the Assignment folder) and show the insert statements used. (d) Retrieve the data from the EmployeeEquipment table by using the SELECT * statement and order by PK column(s)."
   ]
  },
  {
   "cell_type": "code",
   "execution_count": 10,
   "id": "169b1f71",
   "metadata": {},
   "outputs": [
    {
     "name": "stdout",
     "output_type": "stream",
     "text": [
      " * sqlite:////Users/HP/OneDrive/Desktop/SQL/Worker.db\n",
      "Done.\n",
      "13 rows affected.\n",
      "Done.\n"
     ]
    },
    {
     "data": {
      "text/html": [
       "<table>\n",
       "    <thead>\n",
       "        <tr>\n",
       "            <th>EmployeeID</th>\n",
       "            <th>EquipmentID</th>\n",
       "        </tr>\n",
       "    </thead>\n",
       "    <tbody>\n",
       "        <tr>\n",
       "            <td>1</td>\n",
       "            <td>1</td>\n",
       "        </tr>\n",
       "        <tr>\n",
       "            <td>2</td>\n",
       "            <td>1</td>\n",
       "        </tr>\n",
       "        <tr>\n",
       "            <td>2</td>\n",
       "            <td>3</td>\n",
       "        </tr>\n",
       "        <tr>\n",
       "            <td>3</td>\n",
       "            <td>1</td>\n",
       "        </tr>\n",
       "        <tr>\n",
       "            <td>3</td>\n",
       "            <td>2</td>\n",
       "        </tr>\n",
       "        <tr>\n",
       "            <td>3</td>\n",
       "            <td>3</td>\n",
       "        </tr>\n",
       "        <tr>\n",
       "            <td>4</td>\n",
       "            <td>1</td>\n",
       "        </tr>\n",
       "        <tr>\n",
       "            <td>4</td>\n",
       "            <td>2</td>\n",
       "        </tr>\n",
       "        <tr>\n",
       "            <td>5</td>\n",
       "            <td>1</td>\n",
       "        </tr>\n",
       "        <tr>\n",
       "            <td>5</td>\n",
       "            <td>2</td>\n",
       "        </tr>\n",
       "        <tr>\n",
       "            <td>5</td>\n",
       "            <td>3</td>\n",
       "        </tr>\n",
       "        <tr>\n",
       "            <td>6</td>\n",
       "            <td>1</td>\n",
       "        </tr>\n",
       "        <tr>\n",
       "            <td>6</td>\n",
       "            <td>3</td>\n",
       "        </tr>\n",
       "    </tbody>\n",
       "</table>"
      ],
      "text/plain": [
       "[(1, 1),\n",
       " (2, 1),\n",
       " (2, 3),\n",
       " (3, 1),\n",
       " (3, 2),\n",
       " (3, 3),\n",
       " (4, 1),\n",
       " (4, 2),\n",
       " (5, 1),\n",
       " (5, 2),\n",
       " (5, 3),\n",
       " (6, 1),\n",
       " (6, 3)]"
      ]
     },
     "execution_count": 10,
     "metadata": {},
     "output_type": "execute_result"
    }
   ],
   "source": [
    "%%sql\n",
    "\n",
    "CREATE TABLE EmployeeEquipment (\n",
    "    EmployeeID INT NOT NULL,\n",
    "    EquipmentID INT NOT NULL,\n",
    "    PRIMARY KEY (EmployeeID, EquipmentID),\n",
    "    FOREIGN KEY (EmployeeID) REFERENCES Employee(EmployeeID),\n",
    "    FOREIGN KEY (EquipmentID) REFERENCES Equipment(EquipmentID)\n",
    ");\n",
    "\n",
    "INSERT INTO EmployeeEquipment (EmployeeID, EquipmentID)\n",
    "VALUES\n",
    "    (1, 1),\n",
    "    (2, 1),\n",
    "    (3, 1),\n",
    "    (4, 1),\n",
    "    (5, 1),\n",
    "    (6, 1),\n",
    "    (3, 2),\n",
    "    (4, 2),\n",
    "    (5, 2),\n",
    "    (2, 3),\n",
    "    (3, 3),\n",
    "    (5, 3),\n",
    "    (6, 3);\n",
    "\n",
    "SELECT * FROM EmployeeEquipment ORDER BY EmployeeID, EquipmentID;"
   ]
  },
  {
   "cell_type": "code",
   "execution_count": null,
   "id": "155e7642",
   "metadata": {},
   "outputs": [],
   "source": []
  },
  {
   "cell_type": "markdown",
   "id": "3ff63846",
   "metadata": {},
   "source": [
    "#### 6. Create the Training table in the Worker database (table must be based on Physical Model Provided in the Assignment folder). (a) Columns, Primary Key (PK), Data Type & length, and NULL/NOT NULL need to be implemented, as provided in the Physical Model. (b) Show the table definition (DDL) that you implemented. (c) Insert the complete set of data provided in the Excel file (uploaded in the Assignment folder) and show the insert statements used. (d) Retrieve the data from the Training table by using the SELECT * statement and order by PK column(s)."
   ]
  },
  {
   "cell_type": "code",
   "execution_count": 11,
   "id": "29eec46b",
   "metadata": {},
   "outputs": [
    {
     "name": "stdout",
     "output_type": "stream",
     "text": [
      " * sqlite:////Users/HP/OneDrive/Desktop/SQL/Worker.db\n",
      "Done.\n",
      "11 rows affected.\n",
      "Done.\n"
     ]
    },
    {
     "data": {
      "text/html": [
       "<table>\n",
       "    <thead>\n",
       "        <tr>\n",
       "            <th>TrainingID</th>\n",
       "            <th>TrainingName</th>\n",
       "        </tr>\n",
       "    </thead>\n",
       "    <tbody>\n",
       "        <tr>\n",
       "            <td>1</td>\n",
       "            <td>COVID-19 Awareness and Protection Training</td>\n",
       "        </tr>\n",
       "        <tr>\n",
       "            <td>2</td>\n",
       "            <td>Code of Conduct Training</td>\n",
       "        </tr>\n",
       "        <tr>\n",
       "            <td>3</td>\n",
       "            <td>Safety Training</td>\n",
       "        </tr>\n",
       "        <tr>\n",
       "            <td>4</td>\n",
       "            <td>Intro to Python</td>\n",
       "        </tr>\n",
       "        <tr>\n",
       "            <td>5</td>\n",
       "            <td>Machine Learning</td>\n",
       "        </tr>\n",
       "        <tr>\n",
       "            <td>6</td>\n",
       "            <td>Microsoft Certifications</td>\n",
       "        </tr>\n",
       "        <tr>\n",
       "            <td>7</td>\n",
       "            <td>Security and Privacy</td>\n",
       "        </tr>\n",
       "        <tr>\n",
       "            <td>8</td>\n",
       "            <td>Product Knowledge</td>\n",
       "        </tr>\n",
       "        <tr>\n",
       "            <td>9</td>\n",
       "            <td>Sales Skills</td>\n",
       "        </tr>\n",
       "        <tr>\n",
       "            <td>10</td>\n",
       "            <td>Employee Relations</td>\n",
       "        </tr>\n",
       "        <tr>\n",
       "            <td>11</td>\n",
       "            <td>Travel and Expense Management</td>\n",
       "        </tr>\n",
       "    </tbody>\n",
       "</table>"
      ],
      "text/plain": [
       "[(1, 'COVID-19 Awareness and Protection Training'),\n",
       " (2, 'Code of Conduct Training'),\n",
       " (3, 'Safety Training'),\n",
       " (4, 'Intro to Python'),\n",
       " (5, 'Machine Learning'),\n",
       " (6, 'Microsoft Certifications'),\n",
       " (7, 'Security and Privacy'),\n",
       " (8, 'Product Knowledge'),\n",
       " (9, 'Sales Skills'),\n",
       " (10, 'Employee Relations'),\n",
       " (11, 'Travel and Expense Management')]"
      ]
     },
     "execution_count": 11,
     "metadata": {},
     "output_type": "execute_result"
    }
   ],
   "source": [
    "%%sql\n",
    "\n",
    "CREATE TABLE Training (\n",
    "    TrainingID INT NOT NULL,\n",
    "    TrainingName VARCHAR(50) NOT NULL,\n",
    "    PRIMARY KEY (TrainingID)\n",
    ");\n",
    "\n",
    "INSERT INTO Training (TrainingID, TrainingName)\n",
    "VALUES\n",
    "    (1, 'COVID-19 Awareness and Protection Training'),\n",
    "    (2, 'Code of Conduct Training'),\n",
    "    (3, 'Safety Training'),\n",
    "    (4, 'Intro to Python'),\n",
    "    (5, 'Machine Learning'),\n",
    "    (6, 'Microsoft Certifications'),\n",
    "    (7, 'Security and Privacy'),\n",
    "    (8, 'Product Knowledge'),\n",
    "    (9, 'Sales Skills'),\n",
    "    (10, 'Employee Relations'),\n",
    "    (11, 'Travel and Expense Management');\n",
    "\n",
    "SELECT * FROM Training ORDER BY TrainingID;"
   ]
  },
  {
   "cell_type": "code",
   "execution_count": null,
   "id": "dc07fd9a",
   "metadata": {},
   "outputs": [],
   "source": []
  },
  {
   "cell_type": "markdown",
   "id": "4e720d78",
   "metadata": {},
   "source": [
    "#### 7. Create the EmployeeTraining table in the Worker database (table must be based on Physical Model Provided in the Assignment folder). (a) Columns, Primary Key (PK), Data Type & length, and NULL/NOT NULL need to be implemented, as provided in the Physical Model. (b) Show the table definition (DDL) that you implemented. (c) Insert the complete set of data provided in the Excel file (uploaded in the Assignment folder) and show the insert statements used. (d) Retrieve the data from the EmployeeTraining table by using the SELECT * statement and order by PK column(s)."
   ]
  },
  {
   "cell_type": "code",
   "execution_count": 12,
   "id": "18e6c9bc",
   "metadata": {},
   "outputs": [
    {
     "name": "stdout",
     "output_type": "stream",
     "text": [
      " * sqlite:////Users/HP/OneDrive/Desktop/SQL/Worker.db\n",
      "Done.\n",
      "15 rows affected.\n",
      "Done.\n"
     ]
    },
    {
     "data": {
      "text/html": [
       "<table>\n",
       "    <thead>\n",
       "        <tr>\n",
       "            <th>EmployeeID</th>\n",
       "            <th>TrainingID</th>\n",
       "        </tr>\n",
       "    </thead>\n",
       "    <tbody>\n",
       "        <tr>\n",
       "            <td>1</td>\n",
       "            <td>2</td>\n",
       "        </tr>\n",
       "        <tr>\n",
       "            <td>1</td>\n",
       "            <td>3</td>\n",
       "        </tr>\n",
       "        <tr>\n",
       "            <td>2</td>\n",
       "            <td>2</td>\n",
       "        </tr>\n",
       "        <tr>\n",
       "            <td>2</td>\n",
       "            <td>4</td>\n",
       "        </tr>\n",
       "        <tr>\n",
       "            <td>2</td>\n",
       "            <td>5</td>\n",
       "        </tr>\n",
       "        <tr>\n",
       "            <td>3</td>\n",
       "            <td>2</td>\n",
       "        </tr>\n",
       "        <tr>\n",
       "            <td>3</td>\n",
       "            <td>6</td>\n",
       "        </tr>\n",
       "        <tr>\n",
       "            <td>3</td>\n",
       "            <td>7</td>\n",
       "        </tr>\n",
       "        <tr>\n",
       "            <td>4</td>\n",
       "            <td>2</td>\n",
       "        </tr>\n",
       "        <tr>\n",
       "            <td>4</td>\n",
       "            <td>8</td>\n",
       "        </tr>\n",
       "        <tr>\n",
       "            <td>4</td>\n",
       "            <td>9</td>\n",
       "        </tr>\n",
       "        <tr>\n",
       "            <td>5</td>\n",
       "            <td>2</td>\n",
       "        </tr>\n",
       "        <tr>\n",
       "            <td>5</td>\n",
       "            <td>10</td>\n",
       "        </tr>\n",
       "        <tr>\n",
       "            <td>6</td>\n",
       "            <td>2</td>\n",
       "        </tr>\n",
       "        <tr>\n",
       "            <td>6</td>\n",
       "            <td>11</td>\n",
       "        </tr>\n",
       "    </tbody>\n",
       "</table>"
      ],
      "text/plain": [
       "[(1, 2),\n",
       " (1, 3),\n",
       " (2, 2),\n",
       " (2, 4),\n",
       " (2, 5),\n",
       " (3, 2),\n",
       " (3, 6),\n",
       " (3, 7),\n",
       " (4, 2),\n",
       " (4, 8),\n",
       " (4, 9),\n",
       " (5, 2),\n",
       " (5, 10),\n",
       " (6, 2),\n",
       " (6, 11)]"
      ]
     },
     "execution_count": 12,
     "metadata": {},
     "output_type": "execute_result"
    }
   ],
   "source": [
    "%%sql\n",
    "\n",
    "CREATE TABLE EmployeeTraining (\n",
    "    EmployeeID INTEGER NOT NULL,\n",
    "    TrainingID INTEGER NOT NULL,\n",
    "    PRIMARY KEY (EmployeeID, TrainingID),\n",
    "    FOREIGN KEY (EmployeeID) REFERENCES Employee (EmployeeID),\n",
    "    FOREIGN KEY (TrainingID) REFERENCES Training (TrainingID)\n",
    ");\n",
    "\n",
    "INSERT INTO EmployeeTraining (EmployeeID, TrainingID)\n",
    "VALUES\n",
    "    (1, 2),\n",
    "    (2, 2),\n",
    "    (3, 2),\n",
    "    (4, 2),\n",
    "    (5, 2),\n",
    "    (6, 2),\n",
    "    (5, 10),\n",
    "    (2, 4),\n",
    "    (2, 5),\n",
    "    (3, 6),\n",
    "    (4, 8),\n",
    "    (1, 3),\n",
    "    (4, 9),\n",
    "    (3, 7),\n",
    "    (6, 11);\n",
    "\n",
    "SELECT * FROM EmployeeTraining ORDER BY EmployeeID, TrainingID;"
   ]
  },
  {
   "cell_type": "code",
   "execution_count": null,
   "id": "6322cee2",
   "metadata": {},
   "outputs": [],
   "source": []
  },
  {
   "cell_type": "markdown",
   "id": "2baced31",
   "metadata": {},
   "source": [
    "#### 8. Create the Trainer table in the Worker database (table must be based on Physical Model Provided in the Assignment folder). (a) Columns, Primary Key (PK), Data Type & length, and NULL/NOT NULL need to be implemented, as provided in the Physical Model. (b) Show the table definition (DDL) that you implemented. (c) Insert the complete set of data provided in the Excel file (uploaded in the Assignment folder) and show the insert statements used. (d) Retrieve the data from the Trainer table by using the SELECT * statement and order by PK column(s)."
   ]
  },
  {
   "cell_type": "code",
   "execution_count": 13,
   "id": "b352aa80",
   "metadata": {},
   "outputs": [
    {
     "name": "stdout",
     "output_type": "stream",
     "text": [
      " * sqlite:////Users/HP/OneDrive/Desktop/SQL/Worker.db\n",
      "Done.\n",
      "16 rows affected.\n",
      "Done.\n"
     ]
    },
    {
     "data": {
      "text/html": [
       "<table>\n",
       "    <thead>\n",
       "        <tr>\n",
       "            <th>TrainerID</th>\n",
       "            <th>TrainingID</th>\n",
       "            <th>TrainerFirstName</th>\n",
       "            <th>TrainerLastName</th>\n",
       "        </tr>\n",
       "    </thead>\n",
       "    <tbody>\n",
       "        <tr>\n",
       "            <td>1</td>\n",
       "            <td>1</td>\n",
       "            <td>James</td>\n",
       "            <td>Smith</td>\n",
       "        </tr>\n",
       "        <tr>\n",
       "            <td>2</td>\n",
       "            <td>1</td>\n",
       "            <td>Johnny</td>\n",
       "            <td>Khor</td>\n",
       "        </tr>\n",
       "        <tr>\n",
       "            <td>3</td>\n",
       "            <td>2</td>\n",
       "            <td>Michael</td>\n",
       "            <td>Smith</td>\n",
       "        </tr>\n",
       "        <tr>\n",
       "            <td>4</td>\n",
       "            <td>3</td>\n",
       "            <td>Maria</td>\n",
       "            <td>Garcia</td>\n",
       "        </tr>\n",
       "        <tr>\n",
       "            <td>5</td>\n",
       "            <td>4</td>\n",
       "            <td>John</td>\n",
       "            <td>None</td>\n",
       "        </tr>\n",
       "        <tr>\n",
       "            <td>6</td>\n",
       "            <td>4</td>\n",
       "            <td>Paul</td>\n",
       "            <td>Deitel</td>\n",
       "        </tr>\n",
       "        <tr>\n",
       "            <td>7</td>\n",
       "            <td>5</td>\n",
       "            <td>Mike</td>\n",
       "            <td>Taylor</td>\n",
       "        </tr>\n",
       "        <tr>\n",
       "            <td>8</td>\n",
       "            <td>5</td>\n",
       "            <td>Avinash</td>\n",
       "            <td>Navlani</td>\n",
       "        </tr>\n",
       "        <tr>\n",
       "            <td>9</td>\n",
       "            <td>6</td>\n",
       "            <td>Robert</td>\n",
       "            <td>Smith</td>\n",
       "        </tr>\n",
       "        <tr>\n",
       "            <td>10</td>\n",
       "            <td>7</td>\n",
       "            <td>Maria</td>\n",
       "            <td>Rodriguez</td>\n",
       "        </tr>\n",
       "        <tr>\n",
       "            <td>11</td>\n",
       "            <td>8</td>\n",
       "            <td>Mike</td>\n",
       "            <td>Donlon</td>\n",
       "        </tr>\n",
       "        <tr>\n",
       "            <td>12</td>\n",
       "            <td>9</td>\n",
       "            <td>Kathy</td>\n",
       "            <td>Corby</td>\n",
       "        </tr>\n",
       "        <tr>\n",
       "            <td>13</td>\n",
       "            <td>10</td>\n",
       "            <td>Mary</td>\n",
       "            <td>Garcia</td>\n",
       "        </tr>\n",
       "        <tr>\n",
       "            <td>14</td>\n",
       "            <td>10</td>\n",
       "            <td>Vanessa</td>\n",
       "            <td>None</td>\n",
       "        </tr>\n",
       "        <tr>\n",
       "            <td>15</td>\n",
       "            <td>11</td>\n",
       "            <td>Jordan</td>\n",
       "            <td>None</td>\n",
       "        </tr>\n",
       "        <tr>\n",
       "            <td>16</td>\n",
       "            <td>11</td>\n",
       "            <td>Maria</td>\n",
       "            <td>Hernandez</td>\n",
       "        </tr>\n",
       "    </tbody>\n",
       "</table>"
      ],
      "text/plain": [
       "[(1, 1, 'James', 'Smith'),\n",
       " (2, 1, 'Johnny', 'Khor'),\n",
       " (3, 2, 'Michael', 'Smith'),\n",
       " (4, 3, 'Maria', 'Garcia'),\n",
       " (5, 4, 'John', None),\n",
       " (6, 4, 'Paul', 'Deitel'),\n",
       " (7, 5, 'Mike', 'Taylor'),\n",
       " (8, 5, 'Avinash', 'Navlani'),\n",
       " (9, 6, 'Robert', 'Smith'),\n",
       " (10, 7, 'Maria', 'Rodriguez'),\n",
       " (11, 8, 'Mike', 'Donlon'),\n",
       " (12, 9, 'Kathy', 'Corby'),\n",
       " (13, 10, 'Mary', 'Garcia'),\n",
       " (14, 10, 'Vanessa', None),\n",
       " (15, 11, 'Jordan', None),\n",
       " (16, 11, 'Maria', 'Hernandez')]"
      ]
     },
     "execution_count": 13,
     "metadata": {},
     "output_type": "execute_result"
    }
   ],
   "source": [
    "%%sql\n",
    "\n",
    "CREATE TABLE Trainer (\n",
    "    TrainerID INTEGER NOT NULL,\n",
    "    TrainingID INTEGER NOT NULL,\n",
    "    TrainerFirstName VARCHAR(20) NOT NULL,\n",
    "    TrainerLastName VARCHAR(20) NULL,\n",
    "    PRIMARY KEY (TrainerID),\n",
    "    FOREIGN KEY (TrainingID) REFERENCES Training (TrainingID)\n",
    ");\n",
    "\n",
    "INSERT INTO Trainer (TrainerID, TrainingID, TrainerFirstName, TrainerLastName)\n",
    "VALUES\n",
    "    (1, 1, 'James', 'Smith'),\n",
    "    (2, 1, 'Johnny', 'Khor'),\n",
    "    (3, 2, 'Michael', 'Smith'),\n",
    "    (4, 3, 'Maria', 'Garcia'),\n",
    "    (5, 4, 'John', NULL),\n",
    "    (6, 4, 'Paul', 'Deitel'),\n",
    "    (7, 5, 'Mike', 'Taylor'),\n",
    "    (8, 5, 'Avinash', 'Navlani'),\n",
    "    (9, 6, 'Robert', 'Smith'),\n",
    "    (10, 7, 'Maria', 'Rodriguez'),\n",
    "    (11, 8, 'Mike', 'Donlon'),\n",
    "    (12, 9, 'Kathy', 'Corby'),\n",
    "    (13, 10, 'Mary', 'Garcia'),\n",
    "    (14, 10, 'Vanessa', NULL),\n",
    "    (15, 11, 'Jordan', NULL),\n",
    "    (16, 11, 'Maria', 'Hernandez');\n",
    "\n",
    "SELECT * FROM Trainer ORDER BY TrainerID;"
   ]
  },
  {
   "cell_type": "code",
   "execution_count": null,
   "id": "b470ceb6",
   "metadata": {},
   "outputs": [],
   "source": []
  },
  {
   "cell_type": "markdown",
   "id": "67897559",
   "metadata": {},
   "source": [
    "#### 9. Retrieve the data from the Trainer table by using the SELECT * statement with filter, WHERE TrainerLastName IS NULL."
   ]
  },
  {
   "cell_type": "code",
   "execution_count": 14,
   "id": "d3064246",
   "metadata": {},
   "outputs": [
    {
     "name": "stdout",
     "output_type": "stream",
     "text": [
      " * sqlite:////Users/HP/OneDrive/Desktop/SQL/Worker.db\n",
      "Done.\n"
     ]
    },
    {
     "data": {
      "text/html": [
       "<table>\n",
       "    <thead>\n",
       "        <tr>\n",
       "            <th>TrainerID</th>\n",
       "            <th>TrainingID</th>\n",
       "            <th>TrainerFirstName</th>\n",
       "            <th>TrainerLastName</th>\n",
       "        </tr>\n",
       "    </thead>\n",
       "    <tbody>\n",
       "        <tr>\n",
       "            <td>5</td>\n",
       "            <td>4</td>\n",
       "            <td>John</td>\n",
       "            <td>None</td>\n",
       "        </tr>\n",
       "        <tr>\n",
       "            <td>14</td>\n",
       "            <td>10</td>\n",
       "            <td>Vanessa</td>\n",
       "            <td>None</td>\n",
       "        </tr>\n",
       "        <tr>\n",
       "            <td>15</td>\n",
       "            <td>11</td>\n",
       "            <td>Jordan</td>\n",
       "            <td>None</td>\n",
       "        </tr>\n",
       "    </tbody>\n",
       "</table>"
      ],
      "text/plain": [
       "[(5, 4, 'John', None), (14, 10, 'Vanessa', None), (15, 11, 'Jordan', None)]"
      ]
     },
     "execution_count": 14,
     "metadata": {},
     "output_type": "execute_result"
    }
   ],
   "source": [
    "%%sql\n",
    "\n",
    "SELECT *\n",
    "FROM Trainer\n",
    "WHERE TrainerLastName IS NULL\n",
    "ORDER BY TrainerID;"
   ]
  },
  {
   "cell_type": "code",
   "execution_count": null,
   "id": "3720465e",
   "metadata": {},
   "outputs": [],
   "source": []
  },
  {
   "cell_type": "markdown",
   "id": "f3fda056",
   "metadata": {},
   "source": [
    "#### 10. By using the SHOW tables statements, show the list of tables you have created in the Worker database."
   ]
  },
  {
   "cell_type": "code",
   "execution_count": 15,
   "id": "3936839a",
   "metadata": {},
   "outputs": [
    {
     "name": "stdout",
     "output_type": "stream",
     "text": [
      " * sqlite:////Users/HP/OneDrive/Desktop/SQL/Worker.db\n",
      "Done.\n"
     ]
    },
    {
     "data": {
      "text/html": [
       "<table>\n",
       "    <thead>\n",
       "        <tr>\n",
       "            <th>name</th>\n",
       "        </tr>\n",
       "    </thead>\n",
       "    <tbody>\n",
       "        <tr>\n",
       "            <td>Department</td>\n",
       "        </tr>\n",
       "        <tr>\n",
       "            <td>Employee</td>\n",
       "        </tr>\n",
       "        <tr>\n",
       "            <td>EmployeeEquipment</td>\n",
       "        </tr>\n",
       "        <tr>\n",
       "            <td>Training</td>\n",
       "        </tr>\n",
       "        <tr>\n",
       "            <td>EmployeeTraining</td>\n",
       "        </tr>\n",
       "        <tr>\n",
       "            <td>Trainer</td>\n",
       "        </tr>\n",
       "    </tbody>\n",
       "</table>"
      ],
      "text/plain": [
       "[('Department',),\n",
       " ('Employee',),\n",
       " ('EmployeeEquipment',),\n",
       " ('Training',),\n",
       " ('EmployeeTraining',),\n",
       " ('Trainer',)]"
      ]
     },
     "execution_count": 15,
     "metadata": {},
     "output_type": "execute_result"
    }
   ],
   "source": [
    "%%sql\n",
    "\n",
    "SELECT name\n",
    "FROM sqlite_master\n",
    "WHERE type='table';"
   ]
  },
  {
   "cell_type": "code",
   "execution_count": null,
   "id": "3ecff996",
   "metadata": {},
   "outputs": [],
   "source": []
  },
  {
   "cell_type": "code",
   "execution_count": null,
   "id": "3f2c17bd",
   "metadata": {},
   "outputs": [],
   "source": []
  }
 ],
 "metadata": {
  "kernelspec": {
   "display_name": "Python 3",
   "language": "python",
   "name": "python3"
  },
  "language_info": {
   "codemirror_mode": {
    "name": "ipython",
    "version": 3
   },
   "file_extension": ".py",
   "mimetype": "text/x-python",
   "name": "python",
   "nbconvert_exporter": "python",
   "pygments_lexer": "ipython3",
   "version": "3.8.8"
  }
 },
 "nbformat": 4,
 "nbformat_minor": 5
}
