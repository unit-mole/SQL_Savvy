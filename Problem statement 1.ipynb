{
 "cells": [
  {
   "cell_type": "markdown",
   "id": "1dbb34b7",
   "metadata": {},
   "source": [
    "#### Student’s Full Name: Anmol Tripathi\n",
    "#### Course Title: SQL/NoSQL Databases for Data and Information Sciences\n",
    "#### Term name and year: Fall 2023\n",
    "#### Submission Week: 6\n",
    "#### Instructor’s Name: Nayem Rahman\n",
    "#### Date of Submission : 04/10/2023"
   ]
  },
  {
   "cell_type": "code",
   "execution_count": 1,
   "id": "3454bedf",
   "metadata": {},
   "outputs": [],
   "source": [
    "import sqlite3\n",
    "import pandas as pd"
   ]
  },
  {
   "cell_type": "markdown",
   "id": "9061e76e",
   "metadata": {},
   "source": [
    "#### Using the MySQL Workbench, create a database called Worker. The database must be named “Worker”."
   ]
  },
  {
   "cell_type": "code",
   "execution_count": 2,
   "id": "30200d0a",
   "metadata": {},
   "outputs": [],
   "source": [
    "Worker = \"Worker.db\""
   ]
  },
  {
   "cell_type": "code",
   "execution_count": 3,
   "id": "3a3f027a",
   "metadata": {},
   "outputs": [],
   "source": [
    "conn = sqlite3.connect(Worker)"
   ]
  },
  {
   "cell_type": "code",
   "execution_count": 4,
   "id": "f3c07d6e",
   "metadata": {},
   "outputs": [],
   "source": [
    "conn = sqlite3.connect('/Users/HP/OneDrive/Desktop/SQL/Worker.db')"
   ]
  },
  {
   "cell_type": "code",
   "execution_count": 5,
   "id": "b5ed4f57",
   "metadata": {},
   "outputs": [],
   "source": [
    "%load_ext sql"
   ]
  },
  {
   "cell_type": "code",
   "execution_count": 6,
   "id": "dccc7275",
   "metadata": {},
   "outputs": [
    {
     "name": "stdout",
     "output_type": "stream",
     "text": [
      "The sql extension is already loaded. To reload it, use:\n",
      "  %reload_ext sql\n"
     ]
    }
   ],
   "source": [
    "%load_ext sql\n",
    "\n",
    "\n",
    "%sql sqlite:////Users/HP/OneDrive/Desktop/SQL/Worker.db"
   ]
  },
  {
   "cell_type": "code",
   "execution_count": null,
   "id": "3ecff996",
   "metadata": {},
   "outputs": [],
   "source": []
  },
  {
   "cell_type": "markdown",
   "id": "a8f00636",
   "metadata": {},
   "source": [
    "#### 1. Write a query to display the unique TrainerFirstName from the Trainer table. Sort the results. Make sure you show the print screen of the complete set of the rows and columns."
   ]
  },
  {
   "cell_type": "code",
   "execution_count": 16,
   "id": "acedef10",
   "metadata": {},
   "outputs": [
    {
     "name": "stdout",
     "output_type": "stream",
     "text": [
      " * sqlite:////Users/HP/OneDrive/Desktop/SQL/Worker.db\n",
      "Done.\n"
     ]
    },
    {
     "data": {
      "text/html": [
       "<table>\n",
       "    <thead>\n",
       "        <tr>\n",
       "            <th>TrainerFirstName</th>\n",
       "        </tr>\n",
       "    </thead>\n",
       "    <tbody>\n",
       "        <tr>\n",
       "            <td>Avinash</td>\n",
       "        </tr>\n",
       "        <tr>\n",
       "            <td>James</td>\n",
       "        </tr>\n",
       "        <tr>\n",
       "            <td>John</td>\n",
       "        </tr>\n",
       "        <tr>\n",
       "            <td>Johnny</td>\n",
       "        </tr>\n",
       "        <tr>\n",
       "            <td>Jordan</td>\n",
       "        </tr>\n",
       "        <tr>\n",
       "            <td>Kathy</td>\n",
       "        </tr>\n",
       "        <tr>\n",
       "            <td>Maria</td>\n",
       "        </tr>\n",
       "        <tr>\n",
       "            <td>Mary</td>\n",
       "        </tr>\n",
       "        <tr>\n",
       "            <td>Michael</td>\n",
       "        </tr>\n",
       "        <tr>\n",
       "            <td>Mike</td>\n",
       "        </tr>\n",
       "        <tr>\n",
       "            <td>Paul</td>\n",
       "        </tr>\n",
       "        <tr>\n",
       "            <td>Robert</td>\n",
       "        </tr>\n",
       "        <tr>\n",
       "            <td>Vanessa</td>\n",
       "        </tr>\n",
       "    </tbody>\n",
       "</table>"
      ],
      "text/plain": [
       "[('Avinash',),\n",
       " ('James',),\n",
       " ('John',),\n",
       " ('Johnny',),\n",
       " ('Jordan',),\n",
       " ('Kathy',),\n",
       " ('Maria',),\n",
       " ('Mary',),\n",
       " ('Michael',),\n",
       " ('Mike',),\n",
       " ('Paul',),\n",
       " ('Robert',),\n",
       " ('Vanessa',)]"
      ]
     },
     "execution_count": 16,
     "metadata": {},
     "output_type": "execute_result"
    }
   ],
   "source": [
    "%%sql\n",
    "\n",
    "SELECT DISTINCT TrainerFirstName\n",
    "FROM Trainer\n",
    "ORDER BY TrainerFirstName;"
   ]
  },
  {
   "cell_type": "code",
   "execution_count": null,
   "id": "6e241fab",
   "metadata": {},
   "outputs": [],
   "source": []
  },
  {
   "cell_type": "markdown",
   "id": "6d1233a3",
   "metadata": {},
   "source": [
    "#### 2. Write a query to display FirstName, LastName, and HireDate of employees with HireDate greater than January 11, 2011. Sort the results by HireDate. Make sure you show the print screen of the complete set of the rows and columns."
   ]
  },
  {
   "cell_type": "code",
   "execution_count": 17,
   "id": "99dfeca5",
   "metadata": {},
   "outputs": [
    {
     "name": "stdout",
     "output_type": "stream",
     "text": [
      " * sqlite:////Users/HP/OneDrive/Desktop/SQL/Worker.db\n",
      "Done.\n"
     ]
    },
    {
     "data": {
      "text/html": [
       "<table>\n",
       "    <thead>\n",
       "        <tr>\n",
       "            <th>FirstName</th>\n",
       "            <th>LastName</th>\n",
       "            <th>HireDate</th>\n",
       "        </tr>\n",
       "    </thead>\n",
       "    <tbody>\n",
       "        <tr>\n",
       "            <td>Kathy</td>\n",
       "            <td>Cooper</td>\n",
       "            <td>2011-11-18</td>\n",
       "        </tr>\n",
       "        <tr>\n",
       "            <td>Nola</td>\n",
       "            <td>Davis</td>\n",
       "            <td>2016-03-23</td>\n",
       "        </tr>\n",
       "        <tr>\n",
       "            <td>John</td>\n",
       "            <td>Wilson</td>\n",
       "            <td>2017-03-19</td>\n",
       "        </tr>\n",
       "    </tbody>\n",
       "</table>"
      ],
      "text/plain": [
       "[('Kathy', 'Cooper', '2011-11-18'),\n",
       " ('Nola', 'Davis', '2016-03-23'),\n",
       " ('John', 'Wilson', '2017-03-19')]"
      ]
     },
     "execution_count": 17,
     "metadata": {},
     "output_type": "execute_result"
    }
   ],
   "source": [
    "%%sql\n",
    "\n",
    "SELECT FirstName, LastName, HireDate\n",
    "FROM Employee\n",
    "WHERE HireDate > '2011-01-11'\n",
    "ORDER BY HireDate;\n"
   ]
  },
  {
   "cell_type": "code",
   "execution_count": null,
   "id": "b3ff08ca",
   "metadata": {},
   "outputs": [],
   "source": []
  },
  {
   "cell_type": "markdown",
   "id": "260c9675",
   "metadata": {},
   "source": [
    "#### 3. Write a query to display FirstName, LastName, and HireDate of employees hired between January 11, 2005, and January 11, 2011. Sort the results by HireDate. Make sure you show the print screen of the complete set of the rows and columns."
   ]
  },
  {
   "cell_type": "code",
   "execution_count": 18,
   "id": "1172cc1c",
   "metadata": {},
   "outputs": [
    {
     "name": "stdout",
     "output_type": "stream",
     "text": [
      " * sqlite:////Users/HP/OneDrive/Desktop/SQL/Worker.db\n",
      "Done.\n"
     ]
    },
    {
     "data": {
      "text/html": [
       "<table>\n",
       "    <thead>\n",
       "        <tr>\n",
       "            <th>FirstName</th>\n",
       "            <th>LastName</th>\n",
       "            <th>HireDate</th>\n",
       "        </tr>\n",
       "    </thead>\n",
       "    <tbody>\n",
       "        <tr>\n",
       "            <td>Tom</td>\n",
       "            <td>Harper</td>\n",
       "            <td>2010-04-11</td>\n",
       "        </tr>\n",
       "    </tbody>\n",
       "</table>"
      ],
      "text/plain": [
       "[('Tom', 'Harper', '2010-04-11')]"
      ]
     },
     "execution_count": 18,
     "metadata": {},
     "output_type": "execute_result"
    }
   ],
   "source": [
    "%%sql\n",
    "\n",
    "SELECT FirstName, LastName, HireDate\n",
    "FROM Employee\n",
    "WHERE HireDate BETWEEN '2005-01-11' AND '2011-01-11'\n",
    "ORDER BY HireDate;\n"
   ]
  },
  {
   "cell_type": "code",
   "execution_count": null,
   "id": "78d16414",
   "metadata": {},
   "outputs": [],
   "source": []
  },
  {
   "cell_type": "markdown",
   "id": "89e9ca84",
   "metadata": {},
   "source": [
    "#### 4. Write a query to display the FirstName, LastName, DepartmentId from the Employee table. Sort the output by DepartmentID and LastName. Make sure you show the print screen of the complete set of the rows and columns."
   ]
  },
  {
   "cell_type": "code",
   "execution_count": 19,
   "id": "f70841ba",
   "metadata": {},
   "outputs": [
    {
     "name": "stdout",
     "output_type": "stream",
     "text": [
      " * sqlite:////Users/HP/OneDrive/Desktop/SQL/Worker.db\n",
      "Done.\n"
     ]
    },
    {
     "data": {
      "text/html": [
       "<table>\n",
       "    <thead>\n",
       "        <tr>\n",
       "            <th>FirstName</th>\n",
       "            <th>LastName</th>\n",
       "            <th>DepartmentID</th>\n",
       "        </tr>\n",
       "    </thead>\n",
       "    <tbody>\n",
       "        <tr>\n",
       "            <td>John</td>\n",
       "            <td>Wilson</td>\n",
       "            <td>1</td>\n",
       "        </tr>\n",
       "        <tr>\n",
       "            <td>Andy</td>\n",
       "            <td>Wong</td>\n",
       "            <td>2</td>\n",
       "        </tr>\n",
       "        <tr>\n",
       "            <td>Vivek</td>\n",
       "            <td>Pandey</td>\n",
       "            <td>3</td>\n",
       "        </tr>\n",
       "        <tr>\n",
       "            <td>Nola</td>\n",
       "            <td>Davis</td>\n",
       "            <td>7</td>\n",
       "        </tr>\n",
       "        <tr>\n",
       "            <td>Kathy</td>\n",
       "            <td>Cooper</td>\n",
       "            <td>8</td>\n",
       "        </tr>\n",
       "        <tr>\n",
       "            <td>Tom</td>\n",
       "            <td>Harper</td>\n",
       "            <td>9</td>\n",
       "        </tr>\n",
       "    </tbody>\n",
       "</table>"
      ],
      "text/plain": [
       "[('John', 'Wilson', 1),\n",
       " ('Andy', 'Wong', 2),\n",
       " ('Vivek', 'Pandey', 3),\n",
       " ('Nola', 'Davis', 7),\n",
       " ('Kathy', 'Cooper', 8),\n",
       " ('Tom', 'Harper', 9)]"
      ]
     },
     "execution_count": 19,
     "metadata": {},
     "output_type": "execute_result"
    }
   ],
   "source": [
    "%%sql\n",
    "\n",
    "SELECT FirstName, LastName, DepartmentID\n",
    "FROM Employee\n",
    "ORDER BY DepartmentID, LastName;\n"
   ]
  },
  {
   "cell_type": "code",
   "execution_count": null,
   "id": "8ee33e4b",
   "metadata": {},
   "outputs": [],
   "source": []
  },
  {
   "cell_type": "markdown",
   "id": "ef781678",
   "metadata": {},
   "source": [
    "#### 5. Write a query to display the EquipmentID, EquipmentName, and EquipmentCostAmount increase by 15% expressed as a whole number. Label the column NewEquipmentCost. Sort the results by EquipmentID. Make sure you show the print screen of the complete set of the rows and columns."
   ]
  },
  {
   "cell_type": "code",
   "execution_count": 26,
   "id": "7be5015c",
   "metadata": {},
   "outputs": [
    {
     "name": "stdout",
     "output_type": "stream",
     "text": [
      " * sqlite:////Users/HP/OneDrive/Desktop/SQL/Worker.db\n",
      "Done.\n"
     ]
    },
    {
     "data": {
      "text/html": [
       "<table>\n",
       "    <thead>\n",
       "        <tr>\n",
       "            <th>EquipmentID</th>\n",
       "            <th>EquipmentName</th>\n",
       "            <th>OriginalEquipmentCost</th>\n",
       "            <th>EquipmentCostIncrease</th>\n",
       "        </tr>\n",
       "    </thead>\n",
       "    <tbody>\n",
       "        <tr>\n",
       "            <td>1</td>\n",
       "            <td>Notebook Computers</td>\n",
       "            <td>1000</td>\n",
       "            <td>1150.0</td>\n",
       "        </tr>\n",
       "        <tr>\n",
       "            <td>2</td>\n",
       "            <td>Headsets</td>\n",
       "            <td>200</td>\n",
       "            <td>230.0</td>\n",
       "        </tr>\n",
       "        <tr>\n",
       "            <td>3</td>\n",
       "            <td>Computer Monitor</td>\n",
       "            <td>1500</td>\n",
       "            <td>1725.0</td>\n",
       "        </tr>\n",
       "        <tr>\n",
       "            <td>4</td>\n",
       "            <td>Multi-Function Printers</td>\n",
       "            <td>800</td>\n",
       "            <td>920.0</td>\n",
       "        </tr>\n",
       "        <tr>\n",
       "            <td>5</td>\n",
       "            <td>Projector or a Big Screen TV</td>\n",
       "            <td>600</td>\n",
       "            <td>690.0</td>\n",
       "        </tr>\n",
       "        <tr>\n",
       "            <td>6</td>\n",
       "            <td>Servers</td>\n",
       "            <td>300</td>\n",
       "            <td>345.0</td>\n",
       "        </tr>\n",
       "        <tr>\n",
       "            <td>7</td>\n",
       "            <td>Internet Modem</td>\n",
       "            <td>250</td>\n",
       "            <td>288.0</td>\n",
       "        </tr>\n",
       "        <tr>\n",
       "            <td>8</td>\n",
       "            <td>Cell Phone</td>\n",
       "            <td>1200</td>\n",
       "            <td>1380.0</td>\n",
       "        </tr>\n",
       "    </tbody>\n",
       "</table>"
      ],
      "text/plain": [
       "[(1, 'Notebook Computers', 1000, 1150.0),\n",
       " (2, 'Headsets', 200, 230.0),\n",
       " (3, 'Computer Monitor', 1500, 1725.0),\n",
       " (4, 'Multi-Function Printers', 800, 920.0),\n",
       " (5, 'Projector or a Big Screen TV', 600, 690.0),\n",
       " (6, 'Servers', 300, 345.0),\n",
       " (7, 'Internet Modem', 250, 288.0),\n",
       " (8, 'Cell Phone', 1200, 1380.0)]"
      ]
     },
     "execution_count": 26,
     "metadata": {},
     "output_type": "execute_result"
    }
   ],
   "source": [
    "%%sql\n",
    "\n",
    "SELECT EquipmentID, EquipmentName, EquipmentCostAmount AS OriginalEquipmentCost, ROUND(EquipmentCostAmount * 1.15) AS EquipmentCostIncrease\n",
    "FROM Equipment\n",
    "ORDER BY EquipmentID;\n"
   ]
  },
  {
   "cell_type": "code",
   "execution_count": null,
   "id": "a6206d4f",
   "metadata": {},
   "outputs": [],
   "source": []
  },
  {
   "cell_type": "markdown",
   "id": "7c5694f6",
   "metadata": {},
   "source": [
    "#### 6. Write a query to display the FirstName, LastName, HireDate, and Year on which the employee started (Employee table). Sort the results by Year and LastName. Make sure you show the print screen of the complete set of the rows and columns."
   ]
  },
  {
   "cell_type": "code",
   "execution_count": 21,
   "id": "c08ebf06",
   "metadata": {},
   "outputs": [
    {
     "name": "stdout",
     "output_type": "stream",
     "text": [
      " * sqlite:////Users/HP/OneDrive/Desktop/SQL/Worker.db\n",
      "Done.\n"
     ]
    },
    {
     "data": {
      "text/html": [
       "<table>\n",
       "    <thead>\n",
       "        <tr>\n",
       "            <th>FirstName</th>\n",
       "            <th>LastName</th>\n",
       "            <th>HireDate</th>\n",
       "            <th>Year</th>\n",
       "        </tr>\n",
       "    </thead>\n",
       "    <tbody>\n",
       "        <tr>\n",
       "            <td>Andy</td>\n",
       "            <td>Wong</td>\n",
       "            <td>2001-01-15</td>\n",
       "            <td>2001</td>\n",
       "        </tr>\n",
       "        <tr>\n",
       "            <td>Vivek</td>\n",
       "            <td>Pandey</td>\n",
       "            <td>2003-11-15</td>\n",
       "            <td>2003</td>\n",
       "        </tr>\n",
       "        <tr>\n",
       "            <td>Tom</td>\n",
       "            <td>Harper</td>\n",
       "            <td>2010-04-11</td>\n",
       "            <td>2010</td>\n",
       "        </tr>\n",
       "        <tr>\n",
       "            <td>Kathy</td>\n",
       "            <td>Cooper</td>\n",
       "            <td>2011-11-18</td>\n",
       "            <td>2011</td>\n",
       "        </tr>\n",
       "        <tr>\n",
       "            <td>Nola</td>\n",
       "            <td>Davis</td>\n",
       "            <td>2016-03-23</td>\n",
       "            <td>2016</td>\n",
       "        </tr>\n",
       "        <tr>\n",
       "            <td>John</td>\n",
       "            <td>Wilson</td>\n",
       "            <td>2017-03-19</td>\n",
       "            <td>2017</td>\n",
       "        </tr>\n",
       "    </tbody>\n",
       "</table>"
      ],
      "text/plain": [
       "[('Andy', 'Wong', '2001-01-15', '2001'),\n",
       " ('Vivek', 'Pandey', '2003-11-15', '2003'),\n",
       " ('Tom', 'Harper', '2010-04-11', '2010'),\n",
       " ('Kathy', 'Cooper', '2011-11-18', '2011'),\n",
       " ('Nola', 'Davis', '2016-03-23', '2016'),\n",
       " ('John', 'Wilson', '2017-03-19', '2017')]"
      ]
     },
     "execution_count": 21,
     "metadata": {},
     "output_type": "execute_result"
    }
   ],
   "source": [
    "%%sql\n",
    "\n",
    "SELECT FirstName, LastName, HireDate, STRFTIME('%Y', HireDate) AS Year\n",
    "FROM Employee\n",
    "ORDER BY Year, LastName;\n"
   ]
  },
  {
   "cell_type": "code",
   "execution_count": null,
   "id": "3f2c17bd",
   "metadata": {},
   "outputs": [],
   "source": []
  },
  {
   "cell_type": "markdown",
   "id": "7ec96c12",
   "metadata": {},
   "source": [
    "#### 7. Write a query to display the FirstName, LastName, HireDate from the Employee table. Sort the data in descending order of HireDate. Make sure you show the print screen of the complete set of the rows and columns."
   ]
  },
  {
   "cell_type": "code",
   "execution_count": 22,
   "id": "8919ce94",
   "metadata": {},
   "outputs": [
    {
     "name": "stdout",
     "output_type": "stream",
     "text": [
      " * sqlite:////Users/HP/OneDrive/Desktop/SQL/Worker.db\n",
      "Done.\n"
     ]
    },
    {
     "data": {
      "text/html": [
       "<table>\n",
       "    <thead>\n",
       "        <tr>\n",
       "            <th>FirstName</th>\n",
       "            <th>LastName</th>\n",
       "            <th>HireDate</th>\n",
       "        </tr>\n",
       "    </thead>\n",
       "    <tbody>\n",
       "        <tr>\n",
       "            <td>John</td>\n",
       "            <td>Wilson</td>\n",
       "            <td>2017-03-19</td>\n",
       "        </tr>\n",
       "        <tr>\n",
       "            <td>Nola</td>\n",
       "            <td>Davis</td>\n",
       "            <td>2016-03-23</td>\n",
       "        </tr>\n",
       "        <tr>\n",
       "            <td>Kathy</td>\n",
       "            <td>Cooper</td>\n",
       "            <td>2011-11-18</td>\n",
       "        </tr>\n",
       "        <tr>\n",
       "            <td>Tom</td>\n",
       "            <td>Harper</td>\n",
       "            <td>2010-04-11</td>\n",
       "        </tr>\n",
       "        <tr>\n",
       "            <td>Vivek</td>\n",
       "            <td>Pandey</td>\n",
       "            <td>2003-11-15</td>\n",
       "        </tr>\n",
       "        <tr>\n",
       "            <td>Andy</td>\n",
       "            <td>Wong</td>\n",
       "            <td>2001-01-15</td>\n",
       "        </tr>\n",
       "    </tbody>\n",
       "</table>"
      ],
      "text/plain": [
       "[('John', 'Wilson', '2017-03-19'),\n",
       " ('Nola', 'Davis', '2016-03-23'),\n",
       " ('Kathy', 'Cooper', '2011-11-18'),\n",
       " ('Tom', 'Harper', '2010-04-11'),\n",
       " ('Vivek', 'Pandey', '2003-11-15'),\n",
       " ('Andy', 'Wong', '2001-01-15')]"
      ]
     },
     "execution_count": 22,
     "metadata": {},
     "output_type": "execute_result"
    }
   ],
   "source": [
    "%%sql\n",
    "\n",
    "SELECT FirstName, LastName, HireDate\n",
    "FROM Employee\n",
    "ORDER BY HireDate DESC;\n"
   ]
  },
  {
   "cell_type": "code",
   "execution_count": null,
   "id": "73a203fa",
   "metadata": {},
   "outputs": [],
   "source": []
  },
  {
   "cell_type": "markdown",
   "id": "65d28422",
   "metadata": {},
   "source": [
    "#### 8. Write a query to display all columns from the employee table for an employee who joined the company first and without using any hard-coded filter. Make sure you show the print screen of the row and all columns."
   ]
  },
  {
   "cell_type": "code",
   "execution_count": 23,
   "id": "eac5942c",
   "metadata": {},
   "outputs": [
    {
     "name": "stdout",
     "output_type": "stream",
     "text": [
      " * sqlite:////Users/HP/OneDrive/Desktop/SQL/Worker.db\n",
      "Done.\n"
     ]
    },
    {
     "data": {
      "text/html": [
       "<table>\n",
       "    <thead>\n",
       "        <tr>\n",
       "            <th>EmployeeID</th>\n",
       "            <th>DepartmentID</th>\n",
       "            <th>FirstName</th>\n",
       "            <th>LastName</th>\n",
       "            <th>Address</th>\n",
       "            <th>PhoneNumberTxt</th>\n",
       "            <th>HireDate</th>\n",
       "        </tr>\n",
       "    </thead>\n",
       "    <tbody>\n",
       "        <tr>\n",
       "            <td>1</td>\n",
       "            <td>2</td>\n",
       "            <td>Andy</td>\n",
       "            <td>Wong</td>\n",
       "            <td>345 South Street</td>\n",
       "            <td>(603) 555-6880</td>\n",
       "            <td>2001-01-15</td>\n",
       "        </tr>\n",
       "    </tbody>\n",
       "</table>"
      ],
      "text/plain": [
       "[(1, 2, 'Andy', 'Wong', '345 South Street', '(603) 555-6880', '2001-01-15')]"
      ]
     },
     "execution_count": 23,
     "metadata": {},
     "output_type": "execute_result"
    }
   ],
   "source": [
    "%%sql\n",
    "\n",
    "SELECT *\n",
    "FROM Employee\n",
    "WHERE HireDate = (SELECT MIN(HireDate) FROM Employee);\n"
   ]
  },
  {
   "cell_type": "code",
   "execution_count": null,
   "id": "72ff6e2b",
   "metadata": {},
   "outputs": [],
   "source": []
  },
  {
   "cell_type": "markdown",
   "id": "dc3f2331",
   "metadata": {},
   "source": [
    "#### 9. Write a query to display the minimum and maximum HireDate for each Department (hints: DepartmentID) (Employee table). Make sure you show the print screen of the complete set of the rows and columns."
   ]
  },
  {
   "cell_type": "code",
   "execution_count": 29,
   "id": "8c53ba75",
   "metadata": {},
   "outputs": [
    {
     "name": "stdout",
     "output_type": "stream",
     "text": [
      " * sqlite:////Users/HP/OneDrive/Desktop/SQL/Worker.db\n",
      "Done.\n"
     ]
    },
    {
     "data": {
      "text/html": [
       "<table>\n",
       "    <thead>\n",
       "        <tr>\n",
       "            <th>DepartmentID</th>\n",
       "            <th>DepartmentNm</th>\n",
       "            <th>MinHireDate</th>\n",
       "            <th>MaxHireDate</th>\n",
       "        </tr>\n",
       "    </thead>\n",
       "    <tbody>\n",
       "        <tr>\n",
       "            <td>1</td>\n",
       "            <td>Research &amp; Development</td>\n",
       "            <td>2017-03-19</td>\n",
       "            <td>2017-03-19</td>\n",
       "        </tr>\n",
       "        <tr>\n",
       "            <td>2</td>\n",
       "            <td>Production</td>\n",
       "            <td>2001-01-15</td>\n",
       "            <td>2001-01-15</td>\n",
       "        </tr>\n",
       "        <tr>\n",
       "            <td>3</td>\n",
       "            <td>IT Support</td>\n",
       "            <td>2003-11-15</td>\n",
       "            <td>2003-11-15</td>\n",
       "        </tr>\n",
       "        <tr>\n",
       "            <td>7</td>\n",
       "            <td>Sales &amp; Marketing</td>\n",
       "            <td>2016-03-23</td>\n",
       "            <td>2016-03-23</td>\n",
       "        </tr>\n",
       "        <tr>\n",
       "            <td>8</td>\n",
       "            <td>Human Resource Management</td>\n",
       "            <td>2011-11-18</td>\n",
       "            <td>2011-11-18</td>\n",
       "        </tr>\n",
       "        <tr>\n",
       "            <td>9</td>\n",
       "            <td>Accounting and Finance</td>\n",
       "            <td>2010-04-11</td>\n",
       "            <td>2010-04-11</td>\n",
       "        </tr>\n",
       "    </tbody>\n",
       "</table>"
      ],
      "text/plain": [
       "[(1, 'Research & Development', '2017-03-19', '2017-03-19'),\n",
       " (2, 'Production', '2001-01-15', '2001-01-15'),\n",
       " (3, 'IT Support', '2003-11-15', '2003-11-15'),\n",
       " (7, 'Sales & Marketing', '2016-03-23', '2016-03-23'),\n",
       " (8, 'Human Resource Management', '2011-11-18', '2011-11-18'),\n",
       " (9, 'Accounting and Finance', '2010-04-11', '2010-04-11')]"
      ]
     },
     "execution_count": 29,
     "metadata": {},
     "output_type": "execute_result"
    }
   ],
   "source": [
    "%%sql\n",
    "\n",
    "SELECT\n",
    " d.DepartmentID,\n",
    " d.DepartmentNm,\n",
    " MIN(e.HireDate) AS MinHireDate,\n",
    " MAX(e.HireDate) AS MaxHireDate\n",
    "FROM\n",
    " Employee e\n",
    "JOIN\n",
    " Department d ON e.DepartmentID = d.DepartmentID\n",
    "GROUP BY\n",
    " d.DepartmentID, d.DepartmentNm\n",
    "ORDER BY\n",
    " d.DepartmentID;"
   ]
  },
  {
   "cell_type": "code",
   "execution_count": null,
   "id": "4e55edeb",
   "metadata": {},
   "outputs": [],
   "source": []
  },
  {
   "cell_type": "markdown",
   "id": "2504f432",
   "metadata": {},
   "source": [
    "#### 10. Write a query to display the number of trainers for each training course. Source tables: Training and Trainer. Sort the results by TrainingName. Make sure you show the print screen of the complete set of the rows and columns."
   ]
  },
  {
   "cell_type": "code",
   "execution_count": 25,
   "id": "7dbe4e45",
   "metadata": {},
   "outputs": [
    {
     "name": "stdout",
     "output_type": "stream",
     "text": [
      " * sqlite:////Users/HP/OneDrive/Desktop/SQL/Worker.db\n",
      "Done.\n"
     ]
    },
    {
     "data": {
      "text/html": [
       "<table>\n",
       "    <thead>\n",
       "        <tr>\n",
       "            <th>TrainingName</th>\n",
       "            <th>NumTrainers</th>\n",
       "        </tr>\n",
       "    </thead>\n",
       "    <tbody>\n",
       "        <tr>\n",
       "            <td>COVID-19 Awareness and Protection Training</td>\n",
       "            <td>2</td>\n",
       "        </tr>\n",
       "        <tr>\n",
       "            <td>Code of Conduct Training</td>\n",
       "            <td>1</td>\n",
       "        </tr>\n",
       "        <tr>\n",
       "            <td>Employee Relations</td>\n",
       "            <td>2</td>\n",
       "        </tr>\n",
       "        <tr>\n",
       "            <td>Intro to Python</td>\n",
       "            <td>2</td>\n",
       "        </tr>\n",
       "        <tr>\n",
       "            <td>Machine Learning</td>\n",
       "            <td>2</td>\n",
       "        </tr>\n",
       "        <tr>\n",
       "            <td>Microsoft Certifications</td>\n",
       "            <td>1</td>\n",
       "        </tr>\n",
       "        <tr>\n",
       "            <td>Product Knowledge</td>\n",
       "            <td>1</td>\n",
       "        </tr>\n",
       "        <tr>\n",
       "            <td>Safety Training</td>\n",
       "            <td>1</td>\n",
       "        </tr>\n",
       "        <tr>\n",
       "            <td>Sales Skills</td>\n",
       "            <td>1</td>\n",
       "        </tr>\n",
       "        <tr>\n",
       "            <td>Security and Privacy</td>\n",
       "            <td>1</td>\n",
       "        </tr>\n",
       "        <tr>\n",
       "            <td>Travel and Expense Management</td>\n",
       "            <td>2</td>\n",
       "        </tr>\n",
       "    </tbody>\n",
       "</table>"
      ],
      "text/plain": [
       "[('COVID-19 Awareness and Protection Training', 2),\n",
       " ('Code of Conduct Training', 1),\n",
       " ('Employee Relations', 2),\n",
       " ('Intro to Python', 2),\n",
       " ('Machine Learning', 2),\n",
       " ('Microsoft Certifications', 1),\n",
       " ('Product Knowledge', 1),\n",
       " ('Safety Training', 1),\n",
       " ('Sales Skills', 1),\n",
       " ('Security and Privacy', 1),\n",
       " ('Travel and Expense Management', 2)]"
      ]
     },
     "execution_count": 25,
     "metadata": {},
     "output_type": "execute_result"
    }
   ],
   "source": [
    "%%sql\n",
    "\n",
    "SELECT T.TrainingName, COUNT(TrainerID) AS NumTrainers\n",
    "FROM Training T\n",
    "LEFT JOIN Trainer TR ON T.TrainingID = TR.TrainingID\n",
    "GROUP BY T.TrainingName\n",
    "ORDER BY T.TrainingName;\n"
   ]
  },
  {
   "cell_type": "code",
   "execution_count": null,
   "id": "9cb7bae9",
   "metadata": {},
   "outputs": [],
   "source": []
  },
  {
   "cell_type": "code",
   "execution_count": null,
   "id": "87be8e02",
   "metadata": {},
   "outputs": [],
   "source": []
  }
 ],
 "metadata": {
  "kernelspec": {
   "display_name": "Python 3",
   "language": "python",
   "name": "python3"
  },
  "language_info": {
   "codemirror_mode": {
    "name": "ipython",
    "version": 3
   },
   "file_extension": ".py",
   "mimetype": "text/x-python",
   "name": "python",
   "nbconvert_exporter": "python",
   "pygments_lexer": "ipython3",
   "version": "3.8.8"
  }
 },
 "nbformat": 4,
 "nbformat_minor": 5
}
