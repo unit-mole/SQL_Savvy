{
 "cells": [
  {
   "cell_type": "markdown",
   "id": "1dbb34b7",
   "metadata": {},
   "source": [
    "#### Student’s Full Name: Anmol Tripathi\n",
    "#### Course Title: SQL/NoSQL Databases for Data and Information Sciences\n",
    "#### Term name and year: Fall 2023\n",
    "#### Submission Week: 8\n",
    "#### Instructor’s Name: Nayem Rahman\n",
    "#### Date of Submission : 04/15/2023"
   ]
  },
  {
   "cell_type": "code",
   "execution_count": 1,
   "id": "3454bedf",
   "metadata": {},
   "outputs": [],
   "source": [
    "import sqlite3\n",
    "import pandas as pd"
   ]
  },
  {
   "cell_type": "code",
   "execution_count": 2,
   "id": "b5ed4f57",
   "metadata": {},
   "outputs": [],
   "source": [
    "Worker = \"Worker.db\""
   ]
  },
  {
   "cell_type": "code",
   "execution_count": 3,
   "id": "dccc7275",
   "metadata": {},
   "outputs": [],
   "source": [
    "conn = sqlite3.connect(Worker)"
   ]
  },
  {
   "cell_type": "code",
   "execution_count": 4,
   "id": "1744bca7",
   "metadata": {},
   "outputs": [],
   "source": [
    "conn = sqlite3.connect('/Users/HP/OneDrive/Desktop/SQL/Worker.db')"
   ]
  },
  {
   "cell_type": "code",
   "execution_count": 5,
   "id": "7bc3628b",
   "metadata": {},
   "outputs": [],
   "source": [
    "%load_ext sql"
   ]
  },
  {
   "cell_type": "code",
   "execution_count": 6,
   "id": "aa46a22b",
   "metadata": {},
   "outputs": [
    {
     "name": "stdout",
     "output_type": "stream",
     "text": [
      "The sql extension is already loaded. To reload it, use:\n",
      "  %reload_ext sql\n"
     ]
    }
   ],
   "source": [
    "%load_ext sql\n",
    "\n",
    "\n",
    "%sql sqlite:////Users/HP/OneDrive/Desktop/SQL/Worker.db"
   ]
  },
  {
   "cell_type": "code",
   "execution_count": null,
   "id": "5c9c9d07",
   "metadata": {},
   "outputs": [],
   "source": []
  },
  {
   "cell_type": "markdown",
   "id": "c2a147bb",
   "metadata": {},
   "source": [
    "#### 1. Write a query using UNION to display EmployeeID, FirstName, and LastName from the Employee table. The first part of the SQL (i.e., the select statement before the UNION) should use the filter, EmployeeID, 1, 2, 3. The second part of the SQL (i.e., the select statement after the UNION) should use the filter, EmployeeID, 3, 4, 5. Make your observations on the results of the UNION query."
   ]
  },
  {
   "cell_type": "code",
   "execution_count": 7,
   "id": "36a63c71",
   "metadata": {},
   "outputs": [
    {
     "name": "stdout",
     "output_type": "stream",
     "text": [
      " * sqlite:////Users/HP/OneDrive/Desktop/SQL/Worker.db\n",
      "Done.\n"
     ]
    },
    {
     "data": {
      "text/html": [
       "<table>\n",
       "    <thead>\n",
       "        <tr>\n",
       "            <th>EmployeeID</th>\n",
       "            <th>FirstName</th>\n",
       "            <th>LastName</th>\n",
       "        </tr>\n",
       "    </thead>\n",
       "    <tbody>\n",
       "        <tr>\n",
       "            <td>1</td>\n",
       "            <td>Andy</td>\n",
       "            <td>Wong</td>\n",
       "        </tr>\n",
       "        <tr>\n",
       "            <td>2</td>\n",
       "            <td>John</td>\n",
       "            <td>Wilson</td>\n",
       "        </tr>\n",
       "        <tr>\n",
       "            <td>3</td>\n",
       "            <td>Vivek</td>\n",
       "            <td>Pandey</td>\n",
       "        </tr>\n",
       "        <tr>\n",
       "            <td>4</td>\n",
       "            <td>Nola</td>\n",
       "            <td>Davis</td>\n",
       "        </tr>\n",
       "        <tr>\n",
       "            <td>5</td>\n",
       "            <td>Kathy</td>\n",
       "            <td>Cooper</td>\n",
       "        </tr>\n",
       "    </tbody>\n",
       "</table>"
      ],
      "text/plain": [
       "[(1, 'Andy', 'Wong'),\n",
       " (2, 'John', 'Wilson'),\n",
       " (3, 'Vivek', 'Pandey'),\n",
       " (4, 'Nola', 'Davis'),\n",
       " (5, 'Kathy', 'Cooper')]"
      ]
     },
     "execution_count": 7,
     "metadata": {},
     "output_type": "execute_result"
    }
   ],
   "source": [
    "%%sql\n",
    "\n",
    "SELECT EmployeeID, FirstName, LastName\n",
    "FROM Employee\n",
    "WHERE EmployeeID IN (1, 2, 3)\n",
    "\n",
    "UNION\n",
    "\n",
    "SELECT EmployeeID, FirstName, LastName\n",
    "FROM Employee\n",
    "WHERE EmployeeID IN (3, 4, 5);\n"
   ]
  },
  {
   "cell_type": "code",
   "execution_count": null,
   "id": "4e5b1d92",
   "metadata": {},
   "outputs": [],
   "source": []
  },
  {
   "cell_type": "markdown",
   "id": "f002d4af",
   "metadata": {},
   "source": [
    "#### 2. Write a query using UNION ALL to display EmployeeID, FirstName, and LastName from the Employee table. The first part of the SQL (i.e., the select statement before the UNION ALL) should use the filter, EmployeeID, 1, 2, 3. The second part of the SQL (i.e., the select statement after the UNION ALL) should use the filter, EmployeeID, 3, 4, 5.\n",
    "\n",
    "#### Make your observations on the results of the UNION ALL query. How is the query result different from the query results in Question 1?"
   ]
  },
  {
   "cell_type": "code",
   "execution_count": 8,
   "id": "a660aca0",
   "metadata": {},
   "outputs": [
    {
     "name": "stdout",
     "output_type": "stream",
     "text": [
      " * sqlite:////Users/HP/OneDrive/Desktop/SQL/Worker.db\n",
      "Done.\n"
     ]
    },
    {
     "data": {
      "text/html": [
       "<table>\n",
       "    <thead>\n",
       "        <tr>\n",
       "            <th>EmployeeID</th>\n",
       "            <th>FirstName</th>\n",
       "            <th>LastName</th>\n",
       "        </tr>\n",
       "    </thead>\n",
       "    <tbody>\n",
       "        <tr>\n",
       "            <td>1</td>\n",
       "            <td>Andy</td>\n",
       "            <td>Wong</td>\n",
       "        </tr>\n",
       "        <tr>\n",
       "            <td>2</td>\n",
       "            <td>John</td>\n",
       "            <td>Wilson</td>\n",
       "        </tr>\n",
       "        <tr>\n",
       "            <td>3</td>\n",
       "            <td>Vivek</td>\n",
       "            <td>Pandey</td>\n",
       "        </tr>\n",
       "        <tr>\n",
       "            <td>3</td>\n",
       "            <td>Vivek</td>\n",
       "            <td>Pandey</td>\n",
       "        </tr>\n",
       "        <tr>\n",
       "            <td>4</td>\n",
       "            <td>Nola</td>\n",
       "            <td>Davis</td>\n",
       "        </tr>\n",
       "        <tr>\n",
       "            <td>5</td>\n",
       "            <td>Kathy</td>\n",
       "            <td>Cooper</td>\n",
       "        </tr>\n",
       "    </tbody>\n",
       "</table>"
      ],
      "text/plain": [
       "[(1, 'Andy', 'Wong'),\n",
       " (2, 'John', 'Wilson'),\n",
       " (3, 'Vivek', 'Pandey'),\n",
       " (3, 'Vivek', 'Pandey'),\n",
       " (4, 'Nola', 'Davis'),\n",
       " (5, 'Kathy', 'Cooper')]"
      ]
     },
     "execution_count": 8,
     "metadata": {},
     "output_type": "execute_result"
    }
   ],
   "source": [
    "%%sql\n",
    "\n",
    "SELECT EmployeeID, FirstName, LastName\n",
    "FROM Employee\n",
    "WHERE EmployeeID IN (1, 2, 3)\n",
    "\n",
    "UNION ALL\n",
    "\n",
    "SELECT EmployeeID, FirstName, LastName\n",
    "FROM Employee\n",
    "WHERE EmployeeID IN (3, 4, 5);\n"
   ]
  },
  {
   "cell_type": "code",
   "execution_count": null,
   "id": "5bac1e17",
   "metadata": {},
   "outputs": [],
   "source": []
  },
  {
   "cell_type": "markdown",
   "id": "8a3ae484",
   "metadata": {},
   "source": [
    "#### 3. Write a query to display the EmployeeID and total EquipmentCostAmount for each employee. Sort the results by EmployeeID. (Employee, EmployeeEquipment, Equipment tables)."
   ]
  },
  {
   "cell_type": "code",
   "execution_count": 9,
   "id": "5d7ce1fd",
   "metadata": {},
   "outputs": [
    {
     "name": "stdout",
     "output_type": "stream",
     "text": [
      " * sqlite:////Users/HP/OneDrive/Desktop/SQL/Worker.db\n",
      "Done.\n"
     ]
    },
    {
     "data": {
      "text/html": [
       "<table>\n",
       "    <thead>\n",
       "        <tr>\n",
       "            <th>EmployeeID</th>\n",
       "            <th>TotalEquipmentCost</th>\n",
       "        </tr>\n",
       "    </thead>\n",
       "    <tbody>\n",
       "        <tr>\n",
       "            <td>1</td>\n",
       "            <td>1000</td>\n",
       "        </tr>\n",
       "        <tr>\n",
       "            <td>2</td>\n",
       "            <td>2500</td>\n",
       "        </tr>\n",
       "        <tr>\n",
       "            <td>3</td>\n",
       "            <td>2700</td>\n",
       "        </tr>\n",
       "        <tr>\n",
       "            <td>4</td>\n",
       "            <td>1200</td>\n",
       "        </tr>\n",
       "        <tr>\n",
       "            <td>5</td>\n",
       "            <td>2700</td>\n",
       "        </tr>\n",
       "        <tr>\n",
       "            <td>6</td>\n",
       "            <td>2500</td>\n",
       "        </tr>\n",
       "    </tbody>\n",
       "</table>"
      ],
      "text/plain": [
       "[(1, 1000), (2, 2500), (3, 2700), (4, 1200), (5, 2700), (6, 2500)]"
      ]
     },
     "execution_count": 9,
     "metadata": {},
     "output_type": "execute_result"
    }
   ],
   "source": [
    "%%sql\n",
    "\n",
    "SELECT E.EmployeeID, SUM(EquipmentCostAmount) AS TotalEquipmentCost\n",
    "FROM Employee E\n",
    "JOIN EmployeeEquipment EE ON E.EmployeeID = EE.EmployeeID\n",
    "JOIN Equipment EQ ON EE.EquipmentID = EQ.EquipmentID\n",
    "GROUP BY E.EmployeeID\n",
    "ORDER BY E.EmployeeID;\n"
   ]
  },
  {
   "cell_type": "code",
   "execution_count": null,
   "id": "27533512",
   "metadata": {},
   "outputs": [],
   "source": []
  },
  {
   "cell_type": "markdown",
   "id": "860487a8",
   "metadata": {},
   "source": [
    "#### 4. Write a query to display the EmployeeID and total EquipmentCostAmount for each employee who incurs a total EquipmentCostAmount of more than $300.\n",
    "\n",
    "#### Sort the results by EmployeeID. (Use Employee, EmployeeEquipment, Equipment tables). [Hints: use HAVING clause]."
   ]
  },
  {
   "cell_type": "code",
   "execution_count": 10,
   "id": "89e61992",
   "metadata": {},
   "outputs": [
    {
     "name": "stdout",
     "output_type": "stream",
     "text": [
      " * sqlite:////Users/HP/OneDrive/Desktop/SQL/Worker.db\n",
      "Done.\n"
     ]
    },
    {
     "data": {
      "text/html": [
       "<table>\n",
       "    <thead>\n",
       "        <tr>\n",
       "            <th>EmployeeID</th>\n",
       "            <th>TotalEquipmentCost</th>\n",
       "        </tr>\n",
       "    </thead>\n",
       "    <tbody>\n",
       "        <tr>\n",
       "            <td>1</td>\n",
       "            <td>1000</td>\n",
       "        </tr>\n",
       "        <tr>\n",
       "            <td>2</td>\n",
       "            <td>2500</td>\n",
       "        </tr>\n",
       "        <tr>\n",
       "            <td>3</td>\n",
       "            <td>2700</td>\n",
       "        </tr>\n",
       "        <tr>\n",
       "            <td>4</td>\n",
       "            <td>1200</td>\n",
       "        </tr>\n",
       "        <tr>\n",
       "            <td>5</td>\n",
       "            <td>2700</td>\n",
       "        </tr>\n",
       "        <tr>\n",
       "            <td>6</td>\n",
       "            <td>2500</td>\n",
       "        </tr>\n",
       "    </tbody>\n",
       "</table>"
      ],
      "text/plain": [
       "[(1, 1000), (2, 2500), (3, 2700), (4, 1200), (5, 2700), (6, 2500)]"
      ]
     },
     "execution_count": 10,
     "metadata": {},
     "output_type": "execute_result"
    }
   ],
   "source": [
    "%%sql\n",
    "\n",
    "SELECT E.EmployeeID, SUM(EQ.EquipmentCostAmount) AS TotalEquipmentCost\n",
    "FROM Employee E\n",
    "JOIN EmployeeEquipment EE ON E.EmployeeID = EE.EmployeeID\n",
    "JOIN Equipment EQ ON EE.EquipmentID = EQ.EquipmentID\n",
    "GROUP BY E.EmployeeID\n",
    "HAVING TotalEquipmentCost > 300\n",
    "ORDER BY E.EmployeeID;\n"
   ]
  },
  {
   "cell_type": "code",
   "execution_count": null,
   "id": "247980e3",
   "metadata": {},
   "outputs": [],
   "source": []
  },
  {
   "cell_type": "markdown",
   "id": "242dc625",
   "metadata": {},
   "source": [
    "#### 5. Write a query to display the EquipmentID, and the first 10 characters of EquipmentName [Hints: use SUBSTR/SUBSTRING]. Sort the results by EquipmentID."
   ]
  },
  {
   "cell_type": "code",
   "execution_count": 11,
   "id": "29ff069e",
   "metadata": {},
   "outputs": [
    {
     "name": "stdout",
     "output_type": "stream",
     "text": [
      " * sqlite:////Users/HP/OneDrive/Desktop/SQL/Worker.db\n",
      "Done.\n"
     ]
    },
    {
     "data": {
      "text/html": [
       "<table>\n",
       "    <thead>\n",
       "        <tr>\n",
       "            <th>EquipmentID</th>\n",
       "            <th>ShortEquipmentName</th>\n",
       "        </tr>\n",
       "    </thead>\n",
       "    <tbody>\n",
       "        <tr>\n",
       "            <td>1</td>\n",
       "            <td>Notebook C</td>\n",
       "        </tr>\n",
       "        <tr>\n",
       "            <td>2</td>\n",
       "            <td>Headsets</td>\n",
       "        </tr>\n",
       "        <tr>\n",
       "            <td>3</td>\n",
       "            <td>Computer M</td>\n",
       "        </tr>\n",
       "        <tr>\n",
       "            <td>4</td>\n",
       "            <td>Multi-Func</td>\n",
       "        </tr>\n",
       "        <tr>\n",
       "            <td>5</td>\n",
       "            <td>Projector </td>\n",
       "        </tr>\n",
       "        <tr>\n",
       "            <td>6</td>\n",
       "            <td>Servers</td>\n",
       "        </tr>\n",
       "        <tr>\n",
       "            <td>7</td>\n",
       "            <td>Internet M</td>\n",
       "        </tr>\n",
       "        <tr>\n",
       "            <td>8</td>\n",
       "            <td>Cell Phone</td>\n",
       "        </tr>\n",
       "    </tbody>\n",
       "</table>"
      ],
      "text/plain": [
       "[(1, 'Notebook C'),\n",
       " (2, 'Headsets'),\n",
       " (3, 'Computer M'),\n",
       " (4, 'Multi-Func'),\n",
       " (5, 'Projector '),\n",
       " (6, 'Servers'),\n",
       " (7, 'Internet M'),\n",
       " (8, 'Cell Phone')]"
      ]
     },
     "execution_count": 11,
     "metadata": {},
     "output_type": "execute_result"
    }
   ],
   "source": [
    "%%sql\n",
    "\n",
    "SELECT EquipmentID, SUBSTR(EquipmentName, 1, 10) AS ShortEquipmentName\n",
    "FROM Equipment\n",
    "ORDER BY EquipmentID;\n"
   ]
  },
  {
   "cell_type": "code",
   "execution_count": null,
   "id": "72da3c55",
   "metadata": {},
   "outputs": [],
   "source": []
  },
  {
   "cell_type": "markdown",
   "id": "df213121",
   "metadata": {},
   "source": [
    "#### 6. Write a query to display the complete list of Training, and trainers (first and last name) available for each training. If the trainer's last name is not available, display a default value of 'TBD' by using the CASE Expression in the SQL. Sort the output by TrainingName and Trainers' first name."
   ]
  },
  {
   "cell_type": "code",
   "execution_count": 13,
   "id": "8c264313",
   "metadata": {},
   "outputs": [
    {
     "name": "stdout",
     "output_type": "stream",
     "text": [
      " * sqlite:////Users/HP/OneDrive/Desktop/SQL/Worker.db\n",
      "Done.\n"
     ]
    },
    {
     "data": {
      "text/html": [
       "<table>\n",
       "    <thead>\n",
       "        <tr>\n",
       "            <th>TrainingName</th>\n",
       "            <th>TrainerFirstName</th>\n",
       "            <th>TrainerLastName</th>\n",
       "        </tr>\n",
       "    </thead>\n",
       "    <tbody>\n",
       "        <tr>\n",
       "            <td>COVID-19 Awareness and Protection Training</td>\n",
       "            <td>James</td>\n",
       "            <td>Smith</td>\n",
       "        </tr>\n",
       "        <tr>\n",
       "            <td>COVID-19 Awareness and Protection Training</td>\n",
       "            <td>Johnny</td>\n",
       "            <td>Khor</td>\n",
       "        </tr>\n",
       "        <tr>\n",
       "            <td>Code of Conduct Training</td>\n",
       "            <td>Michael</td>\n",
       "            <td>Smith</td>\n",
       "        </tr>\n",
       "        <tr>\n",
       "            <td>Employee Relations</td>\n",
       "            <td>Mary</td>\n",
       "            <td>Garcia</td>\n",
       "        </tr>\n",
       "        <tr>\n",
       "            <td>Employee Relations</td>\n",
       "            <td>Vanessa</td>\n",
       "            <td>TBD</td>\n",
       "        </tr>\n",
       "        <tr>\n",
       "            <td>Intro to Python</td>\n",
       "            <td>John</td>\n",
       "            <td>TBD</td>\n",
       "        </tr>\n",
       "        <tr>\n",
       "            <td>Intro to Python</td>\n",
       "            <td>Paul</td>\n",
       "            <td>Deitel</td>\n",
       "        </tr>\n",
       "        <tr>\n",
       "            <td>Machine Learning</td>\n",
       "            <td>Avinash</td>\n",
       "            <td>Navlani</td>\n",
       "        </tr>\n",
       "        <tr>\n",
       "            <td>Machine Learning</td>\n",
       "            <td>Mike</td>\n",
       "            <td>Taylor</td>\n",
       "        </tr>\n",
       "        <tr>\n",
       "            <td>Microsoft Certifications</td>\n",
       "            <td>Robert</td>\n",
       "            <td>Smith</td>\n",
       "        </tr>\n",
       "        <tr>\n",
       "            <td>Product Knowledge</td>\n",
       "            <td>Mike</td>\n",
       "            <td>Donlon</td>\n",
       "        </tr>\n",
       "        <tr>\n",
       "            <td>Safety Training</td>\n",
       "            <td>Maria</td>\n",
       "            <td>Garcia</td>\n",
       "        </tr>\n",
       "        <tr>\n",
       "            <td>Sales Skills</td>\n",
       "            <td>Kathy</td>\n",
       "            <td>Corby</td>\n",
       "        </tr>\n",
       "        <tr>\n",
       "            <td>Security and Privacy</td>\n",
       "            <td>Maria</td>\n",
       "            <td>Rodriguez</td>\n",
       "        </tr>\n",
       "        <tr>\n",
       "            <td>Travel and Expense Management</td>\n",
       "            <td>Jordan</td>\n",
       "            <td>TBD</td>\n",
       "        </tr>\n",
       "        <tr>\n",
       "            <td>Travel and Expense Management</td>\n",
       "            <td>Maria</td>\n",
       "            <td>Hernandez</td>\n",
       "        </tr>\n",
       "    </tbody>\n",
       "</table>"
      ],
      "text/plain": [
       "[('COVID-19 Awareness and Protection Training', 'James', 'Smith'),\n",
       " ('COVID-19 Awareness and Protection Training', 'Johnny', 'Khor'),\n",
       " ('Code of Conduct Training', 'Michael', 'Smith'),\n",
       " ('Employee Relations', 'Mary', 'Garcia'),\n",
       " ('Employee Relations', 'Vanessa', 'TBD'),\n",
       " ('Intro to Python', 'John', 'TBD'),\n",
       " ('Intro to Python', 'Paul', 'Deitel'),\n",
       " ('Machine Learning', 'Avinash', 'Navlani'),\n",
       " ('Machine Learning', 'Mike', 'Taylor'),\n",
       " ('Microsoft Certifications', 'Robert', 'Smith'),\n",
       " ('Product Knowledge', 'Mike', 'Donlon'),\n",
       " ('Safety Training', 'Maria', 'Garcia'),\n",
       " ('Sales Skills', 'Kathy', 'Corby'),\n",
       " ('Security and Privacy', 'Maria', 'Rodriguez'),\n",
       " ('Travel and Expense Management', 'Jordan', 'TBD'),\n",
       " ('Travel and Expense Management', 'Maria', 'Hernandez')]"
      ]
     },
     "execution_count": 13,
     "metadata": {},
     "output_type": "execute_result"
    }
   ],
   "source": [
    "%%sql\n",
    "\n",
    "SELECT t.TrainingName,\n",
    "    tt.TrainerFirstName,\n",
    "    CASE\n",
    "        WHEN tt.TrainerLastName IS NULL THEN 'TBD'\n",
    "        ELSE tt.TrainerLastName\n",
    "END AS TrainerLastName\n",
    "FROM Training AS t\n",
    "LEFT JOIN Trainer AS tt ON t.TrainingID = tt.TrainingID\n",
    "ORDER BY t.TrainingName, tt.TrainerFirstName;"
   ]
  },
  {
   "cell_type": "code",
   "execution_count": null,
   "id": "5f4a0aab",
   "metadata": {},
   "outputs": [],
   "source": []
  },
  {
   "cell_type": "markdown",
   "id": "aee85d34",
   "metadata": {},
   "source": [
    "#### 7. Write a query to display the complete list of Training, and trainers (first and last name) available for each training. If the trainer's last name is not available, display a default value of 'TBD' by using the COALESCE function in the SQL. Sort the output by TrainingName and Trainers' first name."
   ]
  },
  {
   "cell_type": "code",
   "execution_count": 14,
   "id": "794b3bf8",
   "metadata": {},
   "outputs": [
    {
     "name": "stdout",
     "output_type": "stream",
     "text": [
      " * sqlite:////Users/HP/OneDrive/Desktop/SQL/Worker.db\n",
      "Done.\n"
     ]
    },
    {
     "data": {
      "text/html": [
       "<table>\n",
       "    <thead>\n",
       "        <tr>\n",
       "            <th>TrainingName</th>\n",
       "            <th>TrainerFirstName</th>\n",
       "            <th>TrainerLastName</th>\n",
       "        </tr>\n",
       "    </thead>\n",
       "    <tbody>\n",
       "        <tr>\n",
       "            <td>COVID-19 Awareness and Protection Training</td>\n",
       "            <td>James</td>\n",
       "            <td>Smith</td>\n",
       "        </tr>\n",
       "        <tr>\n",
       "            <td>COVID-19 Awareness and Protection Training</td>\n",
       "            <td>Johnny</td>\n",
       "            <td>Khor</td>\n",
       "        </tr>\n",
       "        <tr>\n",
       "            <td>Code of Conduct Training</td>\n",
       "            <td>Michael</td>\n",
       "            <td>Smith</td>\n",
       "        </tr>\n",
       "        <tr>\n",
       "            <td>Employee Relations</td>\n",
       "            <td>Mary</td>\n",
       "            <td>Garcia</td>\n",
       "        </tr>\n",
       "        <tr>\n",
       "            <td>Employee Relations</td>\n",
       "            <td>Vanessa</td>\n",
       "            <td>TBD</td>\n",
       "        </tr>\n",
       "        <tr>\n",
       "            <td>Intro to Python</td>\n",
       "            <td>John</td>\n",
       "            <td>TBD</td>\n",
       "        </tr>\n",
       "        <tr>\n",
       "            <td>Intro to Python</td>\n",
       "            <td>Paul</td>\n",
       "            <td>Deitel</td>\n",
       "        </tr>\n",
       "        <tr>\n",
       "            <td>Machine Learning</td>\n",
       "            <td>Avinash</td>\n",
       "            <td>Navlani</td>\n",
       "        </tr>\n",
       "        <tr>\n",
       "            <td>Machine Learning</td>\n",
       "            <td>Mike</td>\n",
       "            <td>Taylor</td>\n",
       "        </tr>\n",
       "        <tr>\n",
       "            <td>Microsoft Certifications</td>\n",
       "            <td>Robert</td>\n",
       "            <td>Smith</td>\n",
       "        </tr>\n",
       "        <tr>\n",
       "            <td>Product Knowledge</td>\n",
       "            <td>Mike</td>\n",
       "            <td>Donlon</td>\n",
       "        </tr>\n",
       "        <tr>\n",
       "            <td>Safety Training</td>\n",
       "            <td>Maria</td>\n",
       "            <td>Garcia</td>\n",
       "        </tr>\n",
       "        <tr>\n",
       "            <td>Sales Skills</td>\n",
       "            <td>Kathy</td>\n",
       "            <td>Corby</td>\n",
       "        </tr>\n",
       "        <tr>\n",
       "            <td>Security and Privacy</td>\n",
       "            <td>Maria</td>\n",
       "            <td>Rodriguez</td>\n",
       "        </tr>\n",
       "        <tr>\n",
       "            <td>Travel and Expense Management</td>\n",
       "            <td>Jordan</td>\n",
       "            <td>TBD</td>\n",
       "        </tr>\n",
       "        <tr>\n",
       "            <td>Travel and Expense Management</td>\n",
       "            <td>Maria</td>\n",
       "            <td>Hernandez</td>\n",
       "        </tr>\n",
       "    </tbody>\n",
       "</table>"
      ],
      "text/plain": [
       "[('COVID-19 Awareness and Protection Training', 'James', 'Smith'),\n",
       " ('COVID-19 Awareness and Protection Training', 'Johnny', 'Khor'),\n",
       " ('Code of Conduct Training', 'Michael', 'Smith'),\n",
       " ('Employee Relations', 'Mary', 'Garcia'),\n",
       " ('Employee Relations', 'Vanessa', 'TBD'),\n",
       " ('Intro to Python', 'John', 'TBD'),\n",
       " ('Intro to Python', 'Paul', 'Deitel'),\n",
       " ('Machine Learning', 'Avinash', 'Navlani'),\n",
       " ('Machine Learning', 'Mike', 'Taylor'),\n",
       " ('Microsoft Certifications', 'Robert', 'Smith'),\n",
       " ('Product Knowledge', 'Mike', 'Donlon'),\n",
       " ('Safety Training', 'Maria', 'Garcia'),\n",
       " ('Sales Skills', 'Kathy', 'Corby'),\n",
       " ('Security and Privacy', 'Maria', 'Rodriguez'),\n",
       " ('Travel and Expense Management', 'Jordan', 'TBD'),\n",
       " ('Travel and Expense Management', 'Maria', 'Hernandez')]"
      ]
     },
     "execution_count": 14,
     "metadata": {},
     "output_type": "execute_result"
    }
   ],
   "source": [
    "%%sql\n",
    "\n",
    "SELECT t.TrainingName,\n",
    "    COALESCE(tt.TrainerFirstName, 'TBD') AS TrainerFirstName,\n",
    "    COALESCE(tt.TrainerLastName, 'TBD') AS TrainerLastName\n",
    "FROM Training AS t\n",
    "LEFT JOIN Trainer AS tt ON t.TrainingID = tt.TrainingID\n",
    "ORDER BY t.TrainingName, COALESCE(tt.TrainerFirstName, 'TBD'),\n",
    "COALESCE(tt.TrainerLastName, 'TBD');\n"
   ]
  },
  {
   "cell_type": "code",
   "execution_count": null,
   "id": "eab7708e",
   "metadata": {},
   "outputs": [],
   "source": []
  },
  {
   "cell_type": "markdown",
   "id": "6ce3fc5d",
   "metadata": {},
   "source": [
    "#### 8. Write a query using EXISTS operator to display the EmployeeID, FirstName, LastName, and HireDate of employees who work for the following departments: Accounting and Finance, IT Support, and Production. Sort the results by EmployeeID."
   ]
  },
  {
   "cell_type": "code",
   "execution_count": 15,
   "id": "81a96bad",
   "metadata": {},
   "outputs": [
    {
     "name": "stdout",
     "output_type": "stream",
     "text": [
      " * sqlite:////Users/HP/OneDrive/Desktop/SQL/Worker.db\n",
      "Done.\n"
     ]
    },
    {
     "data": {
      "text/html": [
       "<table>\n",
       "    <thead>\n",
       "        <tr>\n",
       "            <th>EmployeeID</th>\n",
       "            <th>FirstName</th>\n",
       "            <th>LastName</th>\n",
       "            <th>HireDate</th>\n",
       "        </tr>\n",
       "    </thead>\n",
       "    <tbody>\n",
       "        <tr>\n",
       "            <td>1</td>\n",
       "            <td>Andy</td>\n",
       "            <td>Wong</td>\n",
       "            <td>2001-01-15</td>\n",
       "        </tr>\n",
       "        <tr>\n",
       "            <td>3</td>\n",
       "            <td>Vivek</td>\n",
       "            <td>Pandey</td>\n",
       "            <td>2003-11-15</td>\n",
       "        </tr>\n",
       "        <tr>\n",
       "            <td>6</td>\n",
       "            <td>Tom</td>\n",
       "            <td>Harper</td>\n",
       "            <td>2010-04-11</td>\n",
       "        </tr>\n",
       "    </tbody>\n",
       "</table>"
      ],
      "text/plain": [
       "[(1, 'Andy', 'Wong', '2001-01-15'),\n",
       " (3, 'Vivek', 'Pandey', '2003-11-15'),\n",
       " (6, 'Tom', 'Harper', '2010-04-11')]"
      ]
     },
     "execution_count": 15,
     "metadata": {},
     "output_type": "execute_result"
    }
   ],
   "source": [
    "%%sql\n",
    "\n",
    "SELECT E.EmployeeID, E.FirstName, E.LastName, E.HireDate\n",
    "FROM Employee E\n",
    "WHERE EXISTS (\n",
    "    SELECT 1\n",
    "    FROM Department D\n",
    "    WHERE E.DepartmentID = D.DepartmentID\n",
    "    AND D.DepartmentNm IN ('Accounting and Finance', 'IT Support', 'Production')\n",
    ")\n",
    "ORDER BY E.EmployeeID;\n"
   ]
  },
  {
   "cell_type": "code",
   "execution_count": null,
   "id": "82c9f36c",
   "metadata": {},
   "outputs": [],
   "source": []
  },
  {
   "cell_type": "markdown",
   "id": "e71c2469",
   "metadata": {},
   "source": [
    "#### 9. Write a query using EXCEPT operator to display the EmployeeID, FirstName, LastName, and HireDate of employees who do NOT work for the following departments: Accounting and Finance, IT Support, and Production. You must use these filters in your SQL. Sort the results by EmployeeID.\n",
    "\n",
    "#### NOTE: In case your database does not support EXCEPT operator, you may consider NOT EXIST operator."
   ]
  },
  {
   "cell_type": "code",
   "execution_count": 16,
   "id": "c32b4527",
   "metadata": {},
   "outputs": [
    {
     "name": "stdout",
     "output_type": "stream",
     "text": [
      " * sqlite:////Users/HP/OneDrive/Desktop/SQL/Worker.db\n",
      "Done.\n"
     ]
    },
    {
     "data": {
      "text/html": [
       "<table>\n",
       "    <thead>\n",
       "        <tr>\n",
       "            <th>EmployeeID</th>\n",
       "            <th>FirstName</th>\n",
       "            <th>LastName</th>\n",
       "            <th>HireDate</th>\n",
       "        </tr>\n",
       "    </thead>\n",
       "    <tbody>\n",
       "        <tr>\n",
       "            <td>2</td>\n",
       "            <td>John</td>\n",
       "            <td>Wilson</td>\n",
       "            <td>2017-03-19</td>\n",
       "        </tr>\n",
       "        <tr>\n",
       "            <td>4</td>\n",
       "            <td>Nola</td>\n",
       "            <td>Davis</td>\n",
       "            <td>2016-03-23</td>\n",
       "        </tr>\n",
       "        <tr>\n",
       "            <td>5</td>\n",
       "            <td>Kathy</td>\n",
       "            <td>Cooper</td>\n",
       "            <td>2011-11-18</td>\n",
       "        </tr>\n",
       "    </tbody>\n",
       "</table>"
      ],
      "text/plain": [
       "[(2, 'John', 'Wilson', '2017-03-19'),\n",
       " (4, 'Nola', 'Davis', '2016-03-23'),\n",
       " (5, 'Kathy', 'Cooper', '2011-11-18')]"
      ]
     },
     "execution_count": 16,
     "metadata": {},
     "output_type": "execute_result"
    }
   ],
   "source": [
    "%%sql\n",
    "\n",
    "SELECT E.EmployeeID, E.FirstName, E.LastName, E.HireDate\n",
    "FROM Employee E\n",
    "WHERE NOT EXISTS (\n",
    "    SELECT 1\n",
    "    FROM Department D\n",
    "    WHERE E.DepartmentID = D.DepartmentID\n",
    "    AND D.DepartmentNm IN ('Accounting and Finance', 'IT Support', 'Production')\n",
    ")\n",
    "ORDER BY E.EmployeeID;\n"
   ]
  },
  {
   "cell_type": "code",
   "execution_count": null,
   "id": "14c93a87",
   "metadata": {},
   "outputs": [],
   "source": []
  },
  {
   "cell_type": "markdown",
   "id": "83eb6cf5",
   "metadata": {},
   "source": [
    "#### 10. Write a query using the MINUS operator to display the distinct list of equipment NOT used by the current employees.\n",
    "\n",
    "#### NOTE: In case your database does not support MINUS operator, you may consider NOT IN operator."
   ]
  },
  {
   "cell_type": "code",
   "execution_count": 17,
   "id": "33f4a155",
   "metadata": {},
   "outputs": [
    {
     "name": "stdout",
     "output_type": "stream",
     "text": [
      " * sqlite:////Users/HP/OneDrive/Desktop/SQL/Worker.db\n",
      "Done.\n"
     ]
    },
    {
     "data": {
      "text/html": [
       "<table>\n",
       "    <thead>\n",
       "        <tr>\n",
       "            <th>EquipmentID</th>\n",
       "            <th>EquipmentName</th>\n",
       "        </tr>\n",
       "    </thead>\n",
       "    <tbody>\n",
       "        <tr>\n",
       "            <td>4</td>\n",
       "            <td>Multi-Function Printers</td>\n",
       "        </tr>\n",
       "        <tr>\n",
       "            <td>5</td>\n",
       "            <td>Projector or a Big Screen TV</td>\n",
       "        </tr>\n",
       "        <tr>\n",
       "            <td>6</td>\n",
       "            <td>Servers</td>\n",
       "        </tr>\n",
       "        <tr>\n",
       "            <td>7</td>\n",
       "            <td>Internet Modem</td>\n",
       "        </tr>\n",
       "        <tr>\n",
       "            <td>8</td>\n",
       "            <td>Cell Phone</td>\n",
       "        </tr>\n",
       "    </tbody>\n",
       "</table>"
      ],
      "text/plain": [
       "[(4, 'Multi-Function Printers'),\n",
       " (5, 'Projector or a Big Screen TV'),\n",
       " (6, 'Servers'),\n",
       " (7, 'Internet Modem'),\n",
       " (8, 'Cell Phone')]"
      ]
     },
     "execution_count": 17,
     "metadata": {},
     "output_type": "execute_result"
    }
   ],
   "source": [
    "%%sql\n",
    "\n",
    "SELECT EquipmentID, EquipmentName\n",
    "FROM Equipment\n",
    "WHERE EquipmentID NOT IN (\n",
    "    SELECT DISTINCT EquipmentID\n",
    "    FROM EmployeeEquipment\n",
    ")\n",
    "ORDER BY EquipmentID;\n"
   ]
  },
  {
   "cell_type": "code",
   "execution_count": null,
   "id": "6519cee1",
   "metadata": {},
   "outputs": [],
   "source": []
  },
  {
   "cell_type": "code",
   "execution_count": null,
   "id": "bcca66e2",
   "metadata": {},
   "outputs": [],
   "source": []
  }
 ],
 "metadata": {
  "kernelspec": {
   "display_name": "Python 3",
   "language": "python",
   "name": "python3"
  },
  "language_info": {
   "codemirror_mode": {
    "name": "ipython",
    "version": 3
   },
   "file_extension": ".py",
   "mimetype": "text/x-python",
   "name": "python",
   "nbconvert_exporter": "python",
   "pygments_lexer": "ipython3",
   "version": "3.8.8"
  }
 },
 "nbformat": 4,
 "nbformat_minor": 5
}
